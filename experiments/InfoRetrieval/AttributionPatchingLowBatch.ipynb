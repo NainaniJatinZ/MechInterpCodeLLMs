{
 "cells": [
  {
   "cell_type": "code",
   "execution_count": 1,
   "id": "554246ea-a3a5-4ba0-9913-fb1ad996954b",
   "metadata": {},
   "outputs": [
    {
     "name": "stdout",
     "output_type": "stream",
     "text": [
      "/home/jnainani_umass_edu/codellm/MechInterpCodeLLMs\n"
     ]
    }
   ],
   "source": [
    "%cd ../.."
   ]
  },
  {
   "cell_type": "code",
   "execution_count": 2,
   "id": "f5288ad6-b002-4590-bbc1-a021be98d678",
   "metadata": {},
   "outputs": [],
   "source": [
    "import transformer_lens"
   ]
  },
  {
   "cell_type": "code",
   "execution_count": 3,
   "id": "fb5dcb5a-734f-40f9-95c6-713f20f6b000",
   "metadata": {},
   "outputs": [
    {
     "name": "stderr",
     "output_type": "stream",
     "text": [
      "/tmp/ipykernel_6307/3715311821.py:33: DeprecationWarning: `magic(...)` is deprecated since IPython 0.13 (warning added in 8.1), use run_line_magic(magic_name, parameter_s).\n",
      "  ipython.magic(\"load_ext autoreload\")\n",
      "/tmp/ipykernel_6307/3715311821.py:34: DeprecationWarning: `magic(...)` is deprecated since IPython 0.13 (warning added in 8.1), use run_line_magic(magic_name, parameter_s).\n",
      "  ipython.magic(\"autoreload 2\")\n"
     ]
    }
   ],
   "source": [
    "import torch\n",
    "import torch.nn as nn\n",
    "import torch.nn.functional as F\n",
    "import torch.optim as optim\n",
    "\n",
    "import numpy as np\n",
    "import einops\n",
    "from fancy_einsum import einsum\n",
    "import tqdm.notebook as tqdm\n",
    "import random\n",
    "import os\n",
    "import time\n",
    "from pathlib import Path\n",
    "import plotly.express as px\n",
    "from torch.utils.data import DataLoader\n",
    "\n",
    "from torchtyping import TensorType as TT\n",
    "from typing import List, Union, Optional, Callable\n",
    "from typing_extensions import Literal\n",
    "from functools import partial\n",
    "import copy\n",
    "import itertools\n",
    "import json\n",
    "\n",
    "from transformers import AutoModelForCausalLM, AutoConfig, AutoTokenizer\n",
    "import dataclasses\n",
    "import datasets\n",
    "from IPython.display import HTML, Markdown\n",
    "from IPython import get_ipython\n",
    "\n",
    "# Code to automatically update the HookedTransformer code as its edited without restarting the kernel\n",
    "ipython = get_ipython()\n",
    "ipython.magic(\"load_ext autoreload\")\n",
    "ipython.magic(\"autoreload 2\")"
   ]
  },
  {
   "cell_type": "code",
   "execution_count": 4,
   "id": "abaa3e57-7cfb-4249-aaa7-e3d79123143b",
   "metadata": {},
   "outputs": [],
   "source": [
    "# THIS IS A LOCAL (MODIFIED) VERSION OF TRANSFORMER_LENS - UNINSTALL PIP/CONDA VERSION BEFORE USE!\n",
    "import transformer_lens\n",
    "import transformer_lens.utils as utils\n",
    "import transformer_lens.patching as patching\n",
    "from transformer_lens.hook_points import (\n",
    "    HookedRootModule,\n",
    "    HookPoint,\n",
    ")  # Hooking utilities\n",
    "from transformer_lens import (\n",
    "    HookedTransformer,\n",
    "    HookedTransformerConfig,\n",
    "    FactoredMatrix,\n",
    "    ActivationCache,\n",
    ")"
   ]
  },
  {
   "cell_type": "code",
   "execution_count": 5,
   "id": "6615a520-aa6c-4751-bb8e-61c5fe537ee1",
   "metadata": {},
   "outputs": [],
   "source": [
    "# HuggingFace bookkeeping so that the home folder doesn't get filled up\n",
    "# I have these in my .bashrc and .zshrc and they work in terminal but not recognized by python for some reason\n",
    "import os\n",
    "from config import HF_TOKEN, HF_PATH\n",
    "\n",
    "os.environ[\"HF_TOKEN\"] = HF_TOKEN\n",
    "os.environ[\"TRANSFORMERS_CACHE\"] = HF_PATH\n",
    "os.environ[\"HF_DATASETS_CACHE\"] = HF_PATH\n",
    "os.environ[\"HF_HOME\"] = HF_PATH"
   ]
  },
  {
   "cell_type": "code",
   "execution_count": 6,
   "id": "59f5d5aa-7be1-4c24-a0f5-c75f2161f2fe",
   "metadata": {},
   "outputs": [
    {
     "name": "stdout",
     "output_type": "stream",
     "text": [
      "Number of GPUs: 2\n",
      "Primary device: cuda:0\n",
      "GPU 0: 81050.62 MB  Allocated: 0.00 MB  Reserved: 0.00 MB\n",
      "GPU 1: 81050.62 MB  Allocated: 0.00 MB  Reserved: 0.00 MB\n"
     ]
    }
   ],
   "source": [
    "# When using multiple GPUs we use GPU 0 as the primary and switch to the next when it is 90% full\n",
    "num_gpus = torch.cuda.device_count()\n",
    "device_id = 0\n",
    "if num_gpus > 0:\n",
    "    device = \"cuda:0\"\n",
    "else:\n",
    "    device = \"cpu\"\n",
    "    \n",
    "def check_gpu_memory(max_alloc=0.9):\n",
    "    if not torch.cuda.is_available():\n",
    "        return\n",
    "    global device_id, device\n",
    "    print(\"Primary device:\", device)\n",
    "    torch.cuda.empty_cache()\n",
    "    max_alloc = 1 if max_alloc > 1 else max_alloc\n",
    "    for gpu in range(num_gpus):\n",
    "        memory_reserved = torch.cuda.memory_reserved(device=gpu)\n",
    "        memory_allocated = torch.cuda.memory_allocated(device=gpu)\n",
    "        total_memory = torch.cuda.get_device_properties(gpu).total_memory \n",
    "        print(f\"GPU {gpu}: {total_memory / (1024**2):.2f} MB  Allocated: {memory_allocated / (1024**2):.2f} MB  Reserved: {memory_reserved / (1024**2):.2f} MB\")\n",
    "                \n",
    "        # Check if the current GPU is getting too full, and if so we switch the primary device to the next GPU\n",
    "        if memory_reserved > max_alloc * total_memory:\n",
    "            if device_id < num_gpus - 1:\n",
    "                device_id += 1\n",
    "                device = f\"cuda:{device_id}\"\n",
    "                print(f\"Switching primary device to {device}\")\n",
    "            else:\n",
    "                print(\"Cannot switch primary device, all GPUs are nearly full\")\n",
    "\n",
    "print(\"Number of GPUs:\", num_gpus)\n",
    "check_gpu_memory()\n",
    "\n",
    "def timeit(func):\n",
    "    \"\"\"Decorator to measure the execution time of a function.\"\"\"\n",
    "    def wrapper(*args, **kwargs):\n",
    "        start_time = time.time()\n",
    "        result = func(*args, **kwargs)\n",
    "        end_time = time.time()\n",
    "        print(f\"Function {func.__name__!r} executed in {end_time - start_time:.4f} seconds\")\n",
    "        return result\n",
    "    return wrapper"
   ]
  },
  {
   "cell_type": "code",
   "execution_count": 7,
   "id": "b756d9ab-2d79-46ba-9f07-7e80355dedeb",
   "metadata": {},
   "outputs": [
    {
     "data": {
      "application/vnd.jupyter.widget-view+json": {
       "model_id": "a86fad4387d94702a99608e195207eed",
       "version_major": 2,
       "version_minor": 0
      },
      "text/plain": [
       "Loading checkpoint shards:   0%|          | 0/2 [00:00<?, ?it/s]"
      ]
     },
     "metadata": {},
     "output_type": "display_data"
    },
    {
     "name": "stderr",
     "output_type": "stream",
     "text": [
      "WARNING:root:You are not using LayerNorm, so the writing weights can't be centered! Skipping\n"
     ]
    },
    {
     "name": "stdout",
     "output_type": "stream",
     "text": [
      "Loaded pretrained model CodeLlama-7b-hf into HookedTransformer\n",
      "Primary device: cuda:0\n",
      "GPU 0: 81050.62 MB  Allocated: 13174.18 MB  Reserved: 13194.00 MB\n",
      "GPU 1: 81050.62 MB  Allocated: 13174.30 MB  Reserved: 13194.00 MB\n"
     ]
    }
   ],
   "source": [
    "# Create transformer\n",
    "model = HookedTransformer.from_pretrained(\"CodeLlama-7b-hf\", n_devices=num_gpus)\n",
    "\n",
    "# We need these so that individual attention heads and MLP inputs can be edited\n",
    "model.set_use_attn_in(True)\n",
    "model.set_use_hook_mlp_in(True)\n",
    "model.set_use_attn_result(True) # Documentation says this easily burns through GPU memory\n",
    "\n",
    "check_gpu_memory()"
   ]
  },
  {
   "cell_type": "markdown",
   "id": "4d25ac36-f2dc-4b23-ac96-31992acd8896",
   "metadata": {
    "jp-MarkdownHeadingCollapsed": true,
    "tags": []
   },
   "source": [
    "# Old IOI task"
   ]
  },
  {
   "cell_type": "code",
   "execution_count": 7,
   "id": "d894051d-9a86-4d8e-9fc0-23d2d2c02bf1",
   "metadata": {},
   "outputs": [
    {
     "name": "stdout",
     "output_type": "stream",
     "text": [
      "Clean string 0 <s> When J and M went to the shops, J gave the bag to \n",
      "Corrupted string 0 <s> When J and M went to the shops, M gave the bag to \n",
      "Answer token indices tensor([[341, 435],\n",
      "        [435, 341],\n",
      "        [323, 435],\n",
      "        [435, 323],\n",
      "        [360, 317],\n",
      "        [317, 360],\n",
      "        [390, 319],\n",
      "        [319, 390]], device='cuda:0')\n",
      "Primary device: cuda:0\n",
      "GPU 0: 81050.62 MB  Allocated: 26348.49 MB  Reserved: 26370.00 MB\n"
     ]
    }
   ],
   "source": [
    "# Some examples to work with - replace with code examples\n",
    "\n",
    "prompts = ['When J and M went to the shops, J gave the bag to ', 'When J and M went to the shops, M gave the bag to ', 'When T and J went to the park, J gave the ball to ', 'When T and J went to the park, T gave the ball to ', 'When D and S went to the shops, S gave an apple to ', 'When D and S went to the shops, D gave an apple to ', 'After R and A went to the park, A gave a drink to ', 'After R and A went to the park, R gave a drink to ']\n",
    "answers = [('M', 'J'), ('J', 'M'), ('T', 'J'), ('J', 'T'), ('D', 'S'), ('S', 'D'), ('R', 'A'), ('A', 'R')]\n",
    "\n",
    "clean_tokens = model.to_tokens(prompts)\n",
    "# Swap each adjacent pair, with a hacky list comprehension\n",
    "corrupted_tokens = clean_tokens[\n",
    "    [(i+1 if i%2==0 else i-1) for i in range(len(clean_tokens)) ]\n",
    "    ]\n",
    "print(\"Clean string 0\", model.to_string(clean_tokens[0]))\n",
    "print(\"Corrupted string 0\", model.to_string(corrupted_tokens[0]))\n",
    "\n",
    "answer_token_indices = torch.tensor([[model.to_single_token(answers[i][j]) for j in range(2)] for i in range(len(answers))], device=device)\n",
    "print(\"Answer token indices\", answer_token_indices)\n",
    "check_gpu_memory()"
   ]
  },
  {
   "cell_type": "code",
   "execution_count": 8,
   "id": "6f23f231-dc09-40f0-a7f9-478c1393baa6",
   "metadata": {},
   "outputs": [
    {
     "name": "stdout",
     "output_type": "stream",
     "text": [
      "Number of tokens in clean:  17\n",
      "Number of tokens in corrupted:  17\n"
     ]
    }
   ],
   "source": [
    "print(\"Number of tokens in clean: \", len(clean_tokens[0]))\n",
    "print(\"Number of tokens in corrupted: \", len(corrupted_tokens[0]))"
   ]
  },
  {
   "cell_type": "code",
   "execution_count": 9,
   "id": "97078fe4-f711-4093-9e76-907fd1020832",
   "metadata": {},
   "outputs": [
    {
     "name": "stdout",
     "output_type": "stream",
     "text": [
      "here\n",
      "Primary device: cuda:0\n",
      "GPU 0: 81050.62 MB  Allocated: 39114.84 MB  Reserved: 39222.00 MB\n",
      "Primary device: cuda:0\n",
      "GPU 0: 81050.62 MB  Allocated: 51873.89 MB  Reserved: 52048.00 MB\n",
      "Clean logit diff: 0.9658\n",
      "Corrupted logit diff: -0.9658\n",
      "Primary device: cuda:0\n",
      "GPU 0: 81050.62 MB  Allocated: 51873.89 MB  Reserved: 52048.00 MB\n"
     ]
    }
   ],
   "source": [
    "# Logit difference metric\n",
    "def get_logit_diff(logits, answer_token_indices=answer_token_indices, device=\"cpu\"):\n",
    "    if len(logits.shape) == 3:\n",
    "        # Get final logits only\n",
    "        logits = logits[:, -1, :]\n",
    "    logits = logits.to(answer_token_indices.device)\n",
    "    correct_logits = logits.gather(1, answer_token_indices[:, 0].unsqueeze(1))\n",
    "    incorrect_logits = logits.gather(1, answer_token_indices[:, 1].unsqueeze(1))\n",
    "    return (correct_logits - incorrect_logits).mean()\n",
    "\n",
    "# model.to(\"cpu\")\n",
    "print(\"here\")\n",
    "clean_logits, clean_cache = model.run_with_cache(clean_tokens)\n",
    "check_gpu_memory()\n",
    "corrupted_logits, corrupted_cache = model.run_with_cache(corrupted_tokens)\n",
    "check_gpu_memory()\n",
    "\n",
    "clean_logit_diff = get_logit_diff(clean_logits, answer_token_indices).item()\n",
    "print(f\"Clean logit diff: {clean_logit_diff:.4f}\")\n",
    "\n",
    "corrupted_logit_diff = get_logit_diff(corrupted_logits, answer_token_indices).item()\n",
    "print(f\"Corrupted logit diff: {corrupted_logit_diff:.4f}\")\n",
    "check_gpu_memory()"
   ]
  },
  {
   "cell_type": "markdown",
   "id": "e101ce8f-c2d8-43c3-ae83-7cca40e82a45",
   "metadata": {},
   "source": [
    "# Information Retrieval"
   ]
  },
  {
   "cell_type": "markdown",
   "id": "ad959615-bbbf-42e8-94e2-bb4eef78f536",
   "metadata": {},
   "source": [
    "## Loading Info Retrieval Data (only 8 examples, matching IOI, maybe the quality of data will matter idk)"
   ]
  },
  {
   "cell_type": "code",
   "execution_count": 20,
   "id": "7efad811-1873-4105-b2d1-3a5afa71193f",
   "metadata": {},
   "outputs": [
    {
     "name": "stdout",
     "output_type": "stream",
     "text": [
      "Prompts: [\"def K(a, b):\\n    return a - b\\ndef F(a, b):\\n    return a * b\\ndef G(a, b):\\n    return a + b\\ndef I(a, b):\\n    return a < b\\n\\nthe name of the function that uses the '-' operator is \", \"def K(a, b):\\n    return a - b\\ndef F(a, b):\\n    return a * b\\ndef G(a, b):\\n    return a + b\\ndef I(a, b):\\n    return a < b\\n\\nthe name of the function that uses the '<' operator is \", \"def K(a, b):\\n    return a - b\\ndef F(a, b):\\n    return a * b\\ndef G(a, b):\\n    return a + b\\ndef I(a, b):\\n    return a < b\\n\\nthe name of the function that uses the '*' operator is \", \"def K(a, b):\\n    return a - b\\ndef F(a, b):\\n    return a * b\\ndef G(a, b):\\n    return a + b\\ndef I(a, b):\\n    return a < b\\n\\nthe name of the function that uses the '+' operator is \"]\n",
      "Answers: [('K', 'I'), ('I', 'K'), ('F', 'G'), ('G', 'F')]\n"
     ]
    }
   ],
   "source": [
    "with open('data/prompt_dataset_zero_shot.json', 'r') as f:\n",
    "    data = json.load(f)\n",
    "\n",
    "# Take the first few dictionaries (e.g., first 3)\n",
    "subset = data[:4]\n",
    "\n",
    "# Initialize lists\n",
    "prompts = []\n",
    "answers = []\n",
    "\n",
    "# Extract prompts and outputs\n",
    "outputs = []\n",
    "for ind, item in enumerate(subset):\n",
    "    # if ind in [0, 1, 3, 4, 5, 6, 7, 9]:\n",
    "    prompts.append(item[\"prompt\"])\n",
    "    outputs.append(item[\"output\"])\n",
    "\n",
    "# Group pairs of outputs and reverse the tuples alternately\n",
    "for i in range(0, len(outputs) - 1, 2):\n",
    "    answers.append((outputs[i], outputs[i + 1]))\n",
    "    answers.append((outputs[i + 1], outputs[i]))\n",
    "\n",
    "    \n",
    "# prompts.append(prompts[-1])\n",
    "# answers.append(answers[-1])\n",
    "# prompts.append(prompts[-1])\n",
    "# answers.append(answers[-1])\n",
    "# Display the results\n",
    "print(\"Prompts:\", prompts)\n",
    "print(\"Answers:\", answers)"
   ]
  },
  {
   "cell_type": "markdown",
   "id": "64ace549-12ac-49f0-ad34-a84b2310d7a3",
   "metadata": {},
   "source": [
    "## Generating clean and corrupted tokens"
   ]
  },
  {
   "cell_type": "code",
   "execution_count": 21,
   "id": "f18e6042-6c4c-4f68-a264-e297aed594bf",
   "metadata": {},
   "outputs": [
    {
     "ename": "RuntimeError",
     "evalue": "CUDA error: device-side assert triggered\nCUDA kernel errors might be asynchronously reported at some other API call, so the stacktrace below might be incorrect.\nFor debugging consider passing CUDA_LAUNCH_BLOCKING=1.\nCompile with `TORCH_USE_CUDA_DSA` to enable device-side assertions.\n",
     "output_type": "error",
     "traceback": [
      "\u001b[0;31m---------------------------------------------------------------------------\u001b[0m",
      "\u001b[0;31mRuntimeError\u001b[0m                              Traceback (most recent call last)",
      "Cell \u001b[0;32mIn[21], line 1\u001b[0m\n\u001b[0;32m----> 1\u001b[0m clean_tokens \u001b[38;5;241m=\u001b[39m \u001b[43mmodel\u001b[49m\u001b[38;5;241;43m.\u001b[39;49m\u001b[43mto_tokens\u001b[49m\u001b[43m(\u001b[49m\u001b[43mprompts\u001b[49m\u001b[43m)\u001b[49m\n\u001b[1;32m      2\u001b[0m \u001b[38;5;66;03m# Swap each adjacent pair, with a hacky list comprehension\u001b[39;00m\n\u001b[1;32m      3\u001b[0m corrupted_tokens \u001b[38;5;241m=\u001b[39m clean_tokens[\n\u001b[1;32m      4\u001b[0m     [(i\u001b[38;5;241m+\u001b[39m\u001b[38;5;241m1\u001b[39m \u001b[38;5;28;01mif\u001b[39;00m i\u001b[38;5;241m%\u001b[39m\u001b[38;5;241m2\u001b[39m\u001b[38;5;241m==\u001b[39m\u001b[38;5;241m0\u001b[39m \u001b[38;5;28;01melse\u001b[39;00m i\u001b[38;5;241m-\u001b[39m\u001b[38;5;241m1\u001b[39m) \u001b[38;5;28;01mfor\u001b[39;00m i \u001b[38;5;129;01min\u001b[39;00m \u001b[38;5;28mrange\u001b[39m(\u001b[38;5;28mlen\u001b[39m(clean_tokens)) ]\n\u001b[1;32m      5\u001b[0m     ]\n",
      "File \u001b[0;32m~/codellm/MechInterpCodeLLMs/transformer_lens/HookedTransformer.py:746\u001b[0m, in \u001b[0;36mHookedTransformer.to_tokens\u001b[0;34m(self, input, prepend_bos, padding_side, move_to_device, truncate)\u001b[0m\n\u001b[1;32m    743\u001b[0m     tokens \u001b[38;5;241m=\u001b[39m utils\u001b[38;5;241m.\u001b[39mget_tokens_with_bos_removed(\u001b[38;5;28mself\u001b[39m\u001b[38;5;241m.\u001b[39mtokenizer, tokens)\n\u001b[1;32m    745\u001b[0m \u001b[38;5;28;01mif\u001b[39;00m move_to_device:\n\u001b[0;32m--> 746\u001b[0m     tokens \u001b[38;5;241m=\u001b[39m \u001b[43mtokens\u001b[49m\u001b[38;5;241;43m.\u001b[39;49m\u001b[43mto\u001b[49m\u001b[43m(\u001b[49m\u001b[38;5;28;43mself\u001b[39;49m\u001b[38;5;241;43m.\u001b[39;49m\u001b[43mcfg\u001b[49m\u001b[38;5;241;43m.\u001b[39;49m\u001b[43mdevice\u001b[49m\u001b[43m)\u001b[49m\n\u001b[1;32m    747\u001b[0m \u001b[38;5;28;01mreturn\u001b[39;00m tokens\n",
      "\u001b[0;31mRuntimeError\u001b[0m: CUDA error: device-side assert triggered\nCUDA kernel errors might be asynchronously reported at some other API call, so the stacktrace below might be incorrect.\nFor debugging consider passing CUDA_LAUNCH_BLOCKING=1.\nCompile with `TORCH_USE_CUDA_DSA` to enable device-side assertions.\n"
     ]
    }
   ],
   "source": [
    "clean_tokens = model.to_tokens(prompts)\n",
    "# Swap each adjacent pair, with a hacky list comprehension\n",
    "corrupted_tokens = clean_tokens[\n",
    "    [(i+1 if i%2==0 else i-1) for i in range(len(clean_tokens)) ]\n",
    "    ]\n",
    "print(\"Clean string 0\", model.to_string(clean_tokens[0]))\n",
    "print(\"Corrupted string 0\", model.to_string(corrupted_tokens[0]))"
   ]
  },
  {
   "cell_type": "code",
   "execution_count": 13,
   "id": "d82696b0-0e21-4c8d-9927-e3ce238ad32d",
   "metadata": {},
   "outputs": [
    {
     "ename": "RuntimeError",
     "evalue": "CUDA error: device-side assert triggered\nCUDA kernel errors might be asynchronously reported at some other API call, so the stacktrace below might be incorrect.\nFor debugging consider passing CUDA_LAUNCH_BLOCKING=1.\nCompile with `TORCH_USE_CUDA_DSA` to enable device-side assertions.\n",
     "output_type": "error",
     "traceback": [
      "\u001b[0;31m---------------------------------------------------------------------------\u001b[0m",
      "\u001b[0;31mRuntimeError\u001b[0m                              Traceback (most recent call last)",
      "Cell \u001b[0;32mIn[13], line 1\u001b[0m\n\u001b[0;32m----> 1\u001b[0m answer_token_indices \u001b[38;5;241m=\u001b[39m torch\u001b[38;5;241m.\u001b[39mtensor([[model\u001b[38;5;241m.\u001b[39mto_single_token(answers[i][j]) \u001b[38;5;28;01mfor\u001b[39;00m j \u001b[38;5;129;01min\u001b[39;00m \u001b[38;5;28mrange\u001b[39m(\u001b[38;5;241m2\u001b[39m)] \u001b[38;5;28;01mfor\u001b[39;00m i \u001b[38;5;129;01min\u001b[39;00m \u001b[38;5;28mrange\u001b[39m(\u001b[38;5;28mlen\u001b[39m(answers))], device\u001b[38;5;241m=\u001b[39mdevice)\n\u001b[1;32m      2\u001b[0m \u001b[38;5;28mprint\u001b[39m(\u001b[38;5;124m\"\u001b[39m\u001b[38;5;124mAnswer token indices\u001b[39m\u001b[38;5;124m\"\u001b[39m, answer_token_indices)\n\u001b[1;32m      3\u001b[0m check_gpu_memory()\n",
      "Cell \u001b[0;32mIn[13], line 1\u001b[0m, in \u001b[0;36m<listcomp>\u001b[0;34m(.0)\u001b[0m\n\u001b[0;32m----> 1\u001b[0m answer_token_indices \u001b[38;5;241m=\u001b[39m torch\u001b[38;5;241m.\u001b[39mtensor([[model\u001b[38;5;241m.\u001b[39mto_single_token(answers[i][j]) \u001b[38;5;28;01mfor\u001b[39;00m j \u001b[38;5;129;01min\u001b[39;00m \u001b[38;5;28mrange\u001b[39m(\u001b[38;5;241m2\u001b[39m)] \u001b[38;5;28;01mfor\u001b[39;00m i \u001b[38;5;129;01min\u001b[39;00m \u001b[38;5;28mrange\u001b[39m(\u001b[38;5;28mlen\u001b[39m(answers))], device\u001b[38;5;241m=\u001b[39mdevice)\n\u001b[1;32m      2\u001b[0m \u001b[38;5;28mprint\u001b[39m(\u001b[38;5;124m\"\u001b[39m\u001b[38;5;124mAnswer token indices\u001b[39m\u001b[38;5;124m\"\u001b[39m, answer_token_indices)\n\u001b[1;32m      3\u001b[0m check_gpu_memory()\n",
      "Cell \u001b[0;32mIn[13], line 1\u001b[0m, in \u001b[0;36m<listcomp>\u001b[0;34m(.0)\u001b[0m\n\u001b[0;32m----> 1\u001b[0m answer_token_indices \u001b[38;5;241m=\u001b[39m torch\u001b[38;5;241m.\u001b[39mtensor([[\u001b[43mmodel\u001b[49m\u001b[38;5;241;43m.\u001b[39;49m\u001b[43mto_single_token\u001b[49m\u001b[43m(\u001b[49m\u001b[43manswers\u001b[49m\u001b[43m[\u001b[49m\u001b[43mi\u001b[49m\u001b[43m]\u001b[49m\u001b[43m[\u001b[49m\u001b[43mj\u001b[49m\u001b[43m]\u001b[49m\u001b[43m)\u001b[49m \u001b[38;5;28;01mfor\u001b[39;00m j \u001b[38;5;129;01min\u001b[39;00m \u001b[38;5;28mrange\u001b[39m(\u001b[38;5;241m2\u001b[39m)] \u001b[38;5;28;01mfor\u001b[39;00m i \u001b[38;5;129;01min\u001b[39;00m \u001b[38;5;28mrange\u001b[39m(\u001b[38;5;28mlen\u001b[39m(answers))], device\u001b[38;5;241m=\u001b[39mdevice)\n\u001b[1;32m      2\u001b[0m \u001b[38;5;28mprint\u001b[39m(\u001b[38;5;124m\"\u001b[39m\u001b[38;5;124mAnswer token indices\u001b[39m\u001b[38;5;124m\"\u001b[39m, answer_token_indices)\n\u001b[1;32m      3\u001b[0m check_gpu_memory()\n",
      "File \u001b[0;32m~/codellm/MechInterpCodeLLMs/transformer_lens/HookedTransformer.py:875\u001b[0m, in \u001b[0;36mHookedTransformer.to_single_token\u001b[0;34m(self, string)\u001b[0m\n\u001b[1;32m    869\u001b[0m \u001b[38;5;250m\u001b[39m\u001b[38;5;124;03m\"\"\"Map a string that makes up a single token to the id for that token.\u001b[39;00m\n\u001b[1;32m    870\u001b[0m \n\u001b[1;32m    871\u001b[0m \u001b[38;5;124;03mRaises an error for strings that are not a single token! If uncertain use to_tokens.\u001b[39;00m\n\u001b[1;32m    872\u001b[0m \u001b[38;5;124;03m\"\"\"\u001b[39;00m\n\u001b[1;32m    874\u001b[0m \u001b[38;5;66;03m# We use the to_tokens method, do not append a BOS token\u001b[39;00m\n\u001b[0;32m--> 875\u001b[0m token \u001b[38;5;241m=\u001b[39m \u001b[38;5;28;43mself\u001b[39;49m\u001b[38;5;241;43m.\u001b[39;49m\u001b[43mto_tokens\u001b[49m\u001b[43m(\u001b[49m\u001b[43mstring\u001b[49m\u001b[43m,\u001b[49m\u001b[43m \u001b[49m\u001b[43mprepend_bos\u001b[49m\u001b[38;5;241;43m=\u001b[39;49m\u001b[38;5;28;43;01mFalse\u001b[39;49;00m\u001b[43m)\u001b[49m\u001b[38;5;241m.\u001b[39msqueeze()\n\u001b[1;32m    876\u001b[0m \u001b[38;5;66;03m# If token shape is non-empty, raise error\u001b[39;00m\n\u001b[1;32m    877\u001b[0m \u001b[38;5;28;01massert\u001b[39;00m \u001b[38;5;129;01mnot\u001b[39;00m token\u001b[38;5;241m.\u001b[39mshape, \u001b[38;5;124mf\u001b[39m\u001b[38;5;124m\"\u001b[39m\u001b[38;5;124mInput string: \u001b[39m\u001b[38;5;132;01m{\u001b[39;00mstring\u001b[38;5;132;01m}\u001b[39;00m\u001b[38;5;124m is not a single token!\u001b[39m\u001b[38;5;124m\"\u001b[39m\n",
      "File \u001b[0;32m~/codellm/MechInterpCodeLLMs/transformer_lens/HookedTransformer.py:746\u001b[0m, in \u001b[0;36mHookedTransformer.to_tokens\u001b[0;34m(self, input, prepend_bos, padding_side, move_to_device, truncate)\u001b[0m\n\u001b[1;32m    743\u001b[0m     tokens \u001b[38;5;241m=\u001b[39m utils\u001b[38;5;241m.\u001b[39mget_tokens_with_bos_removed(\u001b[38;5;28mself\u001b[39m\u001b[38;5;241m.\u001b[39mtokenizer, tokens)\n\u001b[1;32m    745\u001b[0m \u001b[38;5;28;01mif\u001b[39;00m move_to_device:\n\u001b[0;32m--> 746\u001b[0m     tokens \u001b[38;5;241m=\u001b[39m \u001b[43mtokens\u001b[49m\u001b[38;5;241;43m.\u001b[39;49m\u001b[43mto\u001b[49m\u001b[43m(\u001b[49m\u001b[38;5;28;43mself\u001b[39;49m\u001b[38;5;241;43m.\u001b[39;49m\u001b[43mcfg\u001b[49m\u001b[38;5;241;43m.\u001b[39;49m\u001b[43mdevice\u001b[49m\u001b[43m)\u001b[49m\n\u001b[1;32m    747\u001b[0m \u001b[38;5;28;01mreturn\u001b[39;00m tokens\n",
      "\u001b[0;31mRuntimeError\u001b[0m: CUDA error: device-side assert triggered\nCUDA kernel errors might be asynchronously reported at some other API call, so the stacktrace below might be incorrect.\nFor debugging consider passing CUDA_LAUNCH_BLOCKING=1.\nCompile with `TORCH_USE_CUDA_DSA` to enable device-side assertions.\n"
     ]
    }
   ],
   "source": [
    "answer_token_indices = torch.tensor([[model.to_single_token(answers[i][j]) for j in range(2)] for i in range(len(answers))], device=device)\n",
    "print(\"Answer token indices\", answer_token_indices)\n",
    "check_gpu_memory()"
   ]
  },
  {
   "cell_type": "code",
   "execution_count": 11,
   "id": "2c0fde6f-cc1b-4fec-8c4c-94e330304e08",
   "metadata": {},
   "outputs": [
    {
     "name": "stdout",
     "output_type": "stream",
     "text": [
      "Number of tokens in clean:  72\n",
      "Number of tokens in corrupted:  72\n"
     ]
    }
   ],
   "source": [
    "print(\"Number of tokens in clean: \", len(clean_tokens[0]))\n",
    "print(\"Number of tokens in corrupted: \", len(corrupted_tokens[0]))"
   ]
  },
  {
   "cell_type": "code",
   "execution_count": 45,
   "id": "4f89cc4b-f082-4172-b973-9ff7a48a8b9e",
   "metadata": {},
   "outputs": [
    {
     "data": {
      "text/plain": [
       "\"'-\""
      ]
     },
     "execution_count": 45,
     "metadata": {},
     "output_type": "execute_result"
    }
   ],
   "source": [
    "model.to_string(clean_tokens[0][66])"
   ]
  },
  {
   "cell_type": "markdown",
   "id": "d5aad332-7782-42ac-9909-4075f1057697",
   "metadata": {},
   "source": [
    "## Logit difference "
   ]
  },
  {
   "cell_type": "code",
   "execution_count": 12,
   "id": "83684e50-eb6b-49e4-9d57-b4ffdb44862b",
   "metadata": {},
   "outputs": [
    {
     "name": "stdout",
     "output_type": "stream",
     "text": [
      "Primary device: cuda:0\n",
      "GPU 0: 81050.62 MB  Allocated: 13174.19 MB  Reserved: 13194.00 MB\n",
      "GPU 1: 81050.62 MB  Allocated: 13174.30 MB  Reserved: 13194.00 MB\n"
     ]
    }
   ],
   "source": [
    "check_gpu_memory()"
   ]
  },
  {
   "cell_type": "code",
   "execution_count": 13,
   "id": "f4453f87-017c-468b-ac5c-97641992c7a9",
   "metadata": {},
   "outputs": [
    {
     "name": "stdout",
     "output_type": "stream",
     "text": [
      "here\n",
      "Primary device: cuda:0\n",
      "GPU 0: 81050.62 MB  Allocated: 26774.40 MB  Reserved: 26866.00 MB\n",
      "GPU 1: 81050.62 MB  Allocated: 26815.01 MB  Reserved: 26904.00 MB\n",
      "Primary device: cuda:0\n",
      "GPU 0: 81050.62 MB  Allocated: 23702.71 MB  Reserved: 24562.00 MB\n",
      "GPU 1: 81050.62 MB  Allocated: 23711.83 MB  Reserved: 24564.00 MB\n",
      "Primary device: cuda:0\n",
      "GPU 0: 81050.62 MB  Allocated: 37294.67 MB  Reserved: 37468.00 MB\n",
      "GPU 1: 81050.62 MB  Allocated: 37345.13 MB  Reserved: 37466.00 MB\n",
      "Primary device: cuda:0\n",
      "GPU 0: 81050.62 MB  Allocated: 34222.14 MB  Reserved: 35164.00 MB\n",
      "GPU 1: 81050.62 MB  Allocated: 34238.98 MB  Reserved: 35126.00 MB\n",
      "Clean logit diff: 0.9814\n",
      "Corrupted logit diff: -0.9814\n",
      "Primary device: cuda:0\n",
      "GPU 0: 81050.62 MB  Allocated: 34222.14 MB  Reserved: 35164.00 MB\n",
      "GPU 1: 81050.62 MB  Allocated: 34238.98 MB  Reserved: 35126.00 MB\n"
     ]
    }
   ],
   "source": [
    "# Logit difference metric\n",
    "def get_logit_diff(logits, answer_token_indices=answer_token_indices, device=\"cpu\"):\n",
    "    if len(logits.shape) == 3:\n",
    "        # Get final logits only\n",
    "        logits = logits[:, -1, :]\n",
    "    logits = logits.to(answer_token_indices.device)\n",
    "    correct_logits = logits.gather(1, answer_token_indices[:, 0].unsqueeze(1))\n",
    "    incorrect_logits = logits.gather(1, answer_token_indices[:, 1].unsqueeze(1))\n",
    "    return (correct_logits - incorrect_logits).mean()\n",
    "\n",
    "# model.to(\"cpu\")\n",
    "print(\"here\")\n",
    "clean_logits, clean_cache = model.run_with_cache(clean_tokens)\n",
    "check_gpu_memory()\n",
    "clean_logits =  clean_logits.to(\"cpu\")\n",
    "clean_cache = clean_cache.to(\"cpu\")\n",
    "check_gpu_memory()\n",
    "\n",
    "corrupted_logits, corrupted_cache = model.run_with_cache(corrupted_tokens)\n",
    "check_gpu_memory()\n",
    "corrupted_logits =  corrupted_logits.to(\"cpu\")\n",
    "corrupted_cache = corrupted_cache.to(\"cpu\")\n",
    "check_gpu_memory()\n",
    "\n",
    "clean_logit_diff = get_logit_diff(clean_logits, answer_token_indices).item()\n",
    "print(f\"Clean logit diff: {clean_logit_diff:.4f}\")\n",
    "\n",
    "corrupted_logit_diff = get_logit_diff(corrupted_logits, answer_token_indices).item()\n",
    "print(f\"Corrupted logit diff: {corrupted_logit_diff:.4f}\")\n",
    "check_gpu_memory()"
   ]
  },
  {
   "cell_type": "code",
   "execution_count": 38,
   "id": "e2e5df04-6e59-4f2e-b459-e78a81b769d0",
   "metadata": {},
   "outputs": [
    {
     "ename": "NameError",
     "evalue": "name 'clean_logits' is not defined",
     "output_type": "error",
     "traceback": [
      "\u001b[0;31m---------------------------------------------------------------------------\u001b[0m",
      "\u001b[0;31mNameError\u001b[0m                                 Traceback (most recent call last)",
      "Cell \u001b[0;32mIn[38], line 1\u001b[0m\n\u001b[0;32m----> 1\u001b[0m \u001b[43mclean_logits\u001b[49m\u001b[38;5;241m.\u001b[39mshape\n",
      "\u001b[0;31mNameError\u001b[0m: name 'clean_logits' is not defined"
     ]
    }
   ],
   "source": [
    "clean_logits.shape"
   ]
  },
  {
   "cell_type": "code",
   "execution_count": 14,
   "id": "517b36a9-7ff8-42d1-9380-d67fce09e6a8",
   "metadata": {},
   "outputs": [
    {
     "name": "stdout",
     "output_type": "stream",
     "text": [
      "Clean Baseline is 1: 1.0000\n",
      "Corrupted Baseline is 0: 0.0000\n",
      "Primary device: cuda:0\n",
      "GPU 0: 81050.62 MB  Allocated: 34222.14 MB  Reserved: 35164.00 MB\n",
      "GPU 1: 81050.62 MB  Allocated: 34238.98 MB  Reserved: 35126.00 MB\n"
     ]
    }
   ],
   "source": [
    "# IOI metric - does this mean indirect object identification? Yes\n",
    "\n",
    "CLEAN_BASELINE = clean_logit_diff\n",
    "CORRUPTED_BASELINE = corrupted_logit_diff\n",
    "\n",
    "def ioi_metric(logits, answer_token_indices=answer_token_indices):\n",
    "    logits = logits.to(device)\n",
    "    torch.cuda.empty_cache()\n",
    "    return (get_logit_diff(logits, answer_token_indices) - CORRUPTED_BASELINE) / (\n",
    "        CLEAN_BASELINE - CORRUPTED_BASELINE\n",
    "    )\n",
    "\n",
    "print(f\"Clean Baseline is 1: {ioi_metric(clean_logits).item():.4f}\")\n",
    "print(f\"Corrupted Baseline is 0: {ioi_metric(corrupted_logits).item():.4f}\")\n",
    "check_gpu_memory()"
   ]
  },
  {
   "cell_type": "code",
   "execution_count": 15,
   "id": "29f3130d-3ec4-423a-abc2-69beec2b967e",
   "metadata": {},
   "outputs": [],
   "source": [
    "Metric = Callable[[TT[\"batch_and_pos_dims\", \"d_model\"]], float]"
   ]
  },
  {
   "cell_type": "markdown",
   "id": "b52c3bf5-fc32-4a5b-94ed-ef3984f1f11e",
   "metadata": {},
   "source": [
    "## Removing prev cache\n",
    "The memory shot up during run_with_cache, which I dont think we need later on"
   ]
  },
  {
   "cell_type": "code",
   "execution_count": 16,
   "id": "229423cc-b22d-4b2a-93f0-782bacfa3bc1",
   "metadata": {},
   "outputs": [
    {
     "name": "stdout",
     "output_type": "stream",
     "text": [
      "Primary device: cuda:0\n",
      "GPU 0: 81050.62 MB  Allocated: 13182.31 MB  Reserved: 13338.00 MB\n",
      "GPU 1: 81050.62 MB  Allocated: 13182.43 MB  Reserved: 13338.00 MB\n"
     ]
    }
   ],
   "source": [
    "# Delete tensors\n",
    "del clean_logits\n",
    "del corrupted_logits\n",
    "del clean_logit_diff \n",
    "del corrupted_logit_diff\n",
    "clean_cache = clean_cache.to(\"cpu\")\n",
    "del corrupted_cache\n",
    "\n",
    "# Empty CUDA cache\n",
    "torch.cuda.empty_cache()\n",
    "\n",
    "# Optionally check memory to confirm\n",
    "check_gpu_memory()"
   ]
  },
  {
   "cell_type": "markdown",
   "id": "697a4b13-698e-4802-a378-cf3ab900f551",
   "metadata": {
    "tags": []
   },
   "source": [
    "# Attribution patching"
   ]
  },
  {
   "cell_type": "code",
   "execution_count": 17,
   "id": "2256c670-9c9c-4fcc-95e4-4e7ddd682804",
   "metadata": {},
   "outputs": [
    {
     "name": "stdout",
     "output_type": "stream",
     "text": [
      "Clean Value: 1.0\n",
      "Clean Activations Cached: 739\n",
      "Clean Gradients Cached: 739\n",
      "Primary device: cuda:0\n",
      "GPU 0: 81050.62 MB  Allocated: 57531.98 MB  Reserved: 58264.00 MB\n",
      "GPU 1: 81050.62 MB  Allocated: 26044.85 MB  Reserved: 26158.00 MB\n",
      "Primary device: cuda:0\n",
      "GPU 0: 81050.62 MB  Allocated: 26044.61 MB  Reserved: 26224.00 MB\n",
      "GPU 1: 81050.62 MB  Allocated: 26044.85 MB  Reserved: 26158.00 MB\n",
      "Corrupted Value: 0.0\n",
      "Corrupted Activations Cached: 739\n",
      "Corrupted Gradients Cached: 739\n",
      "Primary device: cuda:0\n",
      "GPU 0: 81050.62 MB  Allocated: 57526.73 MB  Reserved: 58226.00 MB\n",
      "GPU 1: 81050.62 MB  Allocated: 26044.85 MB  Reserved: 26158.00 MB\n",
      "Primary device: cuda:0\n",
      "GPU 0: 81050.62 MB  Allocated: 26044.61 MB  Reserved: 26224.00 MB\n",
      "GPU 1: 81050.62 MB  Allocated: 26044.85 MB  Reserved: 26158.00 MB\n"
     ]
    }
   ],
   "source": [
    "filter_not_qkv_input = lambda name: \"_input\" not in name\n",
    "\n",
    "def get_cache_fwd_and_bwd(model, tokens, metric):\n",
    "    model.reset_hooks()\n",
    "    cache = {}\n",
    "\n",
    "    def forward_cache_hook(act, hook):\n",
    "        act = act.to(device)\n",
    "        torch.cuda.empty_cache()\n",
    "        cache[hook.name] = act\n",
    "\n",
    "    model.add_hook(filter_not_qkv_input, forward_cache_hook, \"fwd\")\n",
    "    grad_cache = {}\n",
    "\n",
    "    def backward_cache_hook(act, hook):\n",
    "        act = act.to(device)\n",
    "        torch.cuda.empty_cache()\n",
    "        grad_cache[hook.name] = act\n",
    "\n",
    "    model.add_hook(filter_not_qkv_input, backward_cache_hook, \"bwd\")\n",
    "    \n",
    "    result = model(tokens).to(device)\n",
    "    torch.cuda.empty_cache()\n",
    "    value = metric(result)\n",
    "    value.backward()\n",
    "\n",
    "    # Reset hooks and clear unused GPU memory\n",
    "    value = value.item()\n",
    "    model.reset_hooks()\n",
    "    torch.cuda.empty_cache()\n",
    "    \n",
    "    cache = ActivationCache(cache, model).to(device)\n",
    "    grad_cache = ActivationCache(grad_cache, model).to(device)\n",
    "    \n",
    "    return value,cache, grad_cache\n",
    "\n",
    "clean_value, clean_cache, clean_grad_cache = get_cache_fwd_and_bwd(model, clean_tokens, ioi_metric)\n",
    "print(\"Clean Value:\", clean_value)\n",
    "print(\"Clean Activations Cached:\", len(clean_cache))\n",
    "print(\"Clean Gradients Cached:\", len(clean_grad_cache))\n",
    "check_gpu_memory()\n",
    "\n",
    "clean_cache = clean_cache.to('cpu')\n",
    "clean_grad_cache = clean_grad_cache.to('cpu')\n",
    "\n",
    "check_gpu_memory()\n",
    "\n",
    "corrupted_value, corrupted_cache, corrupted_grad_cache = get_cache_fwd_and_bwd(model, corrupted_tokens, ioi_metric)\n",
    "print(\"Corrupted Value:\", corrupted_value)\n",
    "print(\"Corrupted Activations Cached:\", len(corrupted_cache))\n",
    "print(\"Corrupted Gradients Cached:\", len(corrupted_grad_cache))\n",
    "check_gpu_memory()\n",
    "\n",
    "corrupted_cache = corrupted_cache.to('cpu')\n",
    "corrupted_grad_cache = corrupted_grad_cache.to('cpu')\n",
    "\n",
    "torch.cuda.empty_cache()\n",
    "check_gpu_memory()"
   ]
  },
  {
   "cell_type": "code",
   "execution_count": 51,
   "id": "05c06191-5dfd-4316-b1e7-1bbebc231c93",
   "metadata": {},
   "outputs": [
    {
     "data": {
      "text/plain": [
       "torch.Size([4, 72, 4096])"
      ]
     },
     "execution_count": 51,
     "metadata": {},
     "output_type": "execute_result"
    }
   ],
   "source": [
    "clean_cache['hook_embed'].shape"
   ]
  },
  {
   "cell_type": "code",
   "execution_count": 18,
   "id": "150cb74d-2ee3-4e9b-887d-7b0deb545a2d",
   "metadata": {},
   "outputs": [
    {
     "name": "stdout",
     "output_type": "stream",
     "text": [
      "['L0H0', 'L0H1', 'L0H2', 'L0H3', 'L0H4']\n",
      "['L0H0+', 'L0H0-', 'L0H1+', 'L0H1-', 'L0H2+']\n",
      "['L0H0Q', 'L0H0K', 'L0H0V', 'L0H1Q', 'L0H1K']\n"
     ]
    }
   ],
   "source": [
    "HEAD_NAMES = [\n",
    "    f\"L{l}H{h}\" for l in range(model.cfg.n_layers) for h in range(model.cfg.n_heads)\n",
    "]\n",
    "HEAD_NAMES_SIGNED = [f\"{name}{sign}\" for name in HEAD_NAMES for sign in [\"+\", \"-\"]]\n",
    "HEAD_NAMES_QKV = [\n",
    "    f\"{name}{act_name}\" for name in HEAD_NAMES for act_name in [\"Q\", \"K\", \"V\"]\n",
    "]\n",
    "print(HEAD_NAMES[:5])\n",
    "print(HEAD_NAMES_SIGNED[:5])\n",
    "print(HEAD_NAMES_QKV[:5])"
   ]
  },
  {
   "cell_type": "code",
   "execution_count": 19,
   "id": "86e5a643-dc88-4ab1-b94a-153d5fc46803",
   "metadata": {},
   "outputs": [
    {
     "name": "stdout",
     "output_type": "stream",
     "text": [
      "Function 'create_attention_attr' executed in 0.0726 seconds\n",
      "Primary device: cuda:0\n",
      "GPU 0: 81050.62 MB  Allocated: 26044.61 MB  Reserved: 26224.00 MB\n",
      "GPU 1: 81050.62 MB  Allocated: 26044.85 MB  Reserved: 26158.00 MB\n"
     ]
    }
   ],
   "source": [
    "@timeit\n",
    "def create_attention_attr(\n",
    "    clean_cache, clean_grad_cache, device\n",
    ") -> TT[\"batch\", \"layer\", \"head_index\", \"dest\", \"src\"]:\n",
    "    attention_stack = torch.stack(\n",
    "        [clean_cache[\"pattern\", l] for l in range(model.cfg.n_layers)], dim=0\n",
    "    ).to(device)\n",
    "    attention_grad_stack = torch.stack(\n",
    "        [clean_grad_cache[\"pattern\", l] for l in range(model.cfg.n_layers)], dim=0\n",
    "    ).to(device)\n",
    "    attention_attr = attention_grad_stack * attention_stack\n",
    "    attention_attr = einops.rearrange(\n",
    "        attention_attr,\n",
    "        \"layer batch head_index dest src -> batch layer head_index dest src\",\n",
    "    )\n",
    "    return attention_attr\n",
    "\n",
    "attention_attr = create_attention_attr(clean_cache, clean_grad_cache, \"cpu\")\n",
    "check_gpu_memory()"
   ]
  },
  {
   "cell_type": "code",
   "execution_count": 20,
   "id": "2c765b5e-e5d2-4fbb-a08b-bf3603132917",
   "metadata": {},
   "outputs": [
    {
     "name": "stdout",
     "output_type": "stream",
     "text": [
      "Primary device: cuda:0\n",
      "GPU 0: 81050.62 MB  Allocated: 26044.61 MB  Reserved: 26224.00 MB\n",
      "GPU 1: 81050.62 MB  Allocated: 26044.85 MB  Reserved: 26158.00 MB\n"
     ]
    }
   ],
   "source": [
    "torch.cuda.empty_cache()\n",
    "check_gpu_memory()"
   ]
  },
  {
   "cell_type": "markdown",
   "id": "27a2fe9f-f172-4d41-952b-b833b3decb47",
   "metadata": {
    "tags": []
   },
   "source": [
    "# Residual Stream Patching"
   ]
  },
  {
   "cell_type": "code",
   "execution_count": 21,
   "id": "86cbd6e1-25fd-458a-88a2-98b741f77242",
   "metadata": {},
   "outputs": [],
   "source": [
    "@timeit\n",
    "def attr_patch_residual(\n",
    "    clean_cache: ActivationCache,\n",
    "    corrupted_cache: ActivationCache,\n",
    "    corrupted_grad_cache: ActivationCache,\n",
    "    device,\n",
    ") -> TT[\"component\", \"pos\"]:\n",
    "    clean_residual, residual_labels = clean_cache.accumulated_resid(\n",
    "        -1, incl_mid=True, return_labels=True\n",
    "    )\n",
    "    corrupted_residual = corrupted_cache.accumulated_resid(\n",
    "        -1, incl_mid=True, return_labels=False\n",
    "    )\n",
    "    corrupted_grad_residual = corrupted_grad_cache.accumulated_resid(\n",
    "        -1, incl_mid=True, return_labels=False\n",
    "    )\n",
    "    residual_attr = einops.reduce(\n",
    "        corrupted_grad_residual * (clean_residual - corrupted_residual),\n",
    "        \"component batch pos d_model -> component pos\",\n",
    "        \"sum\",\n",
    "    ).to(device)\n",
    "    return residual_attr, residual_labels"
   ]
  },
  {
   "cell_type": "code",
   "execution_count": 22,
   "id": "b7b78686-f90d-47ba-8102-0dc0e1502da7",
   "metadata": {},
   "outputs": [
    {
     "name": "stdout",
     "output_type": "stream",
     "text": [
      "Function 'attr_patch_residual' executed in 0.3837 seconds\n",
      "Primary device: cuda:0\n",
      "GPU 0: 81050.62 MB  Allocated: 26044.61 MB  Reserved: 26224.00 MB\n",
      "GPU 1: 81050.62 MB  Allocated: 26044.85 MB  Reserved: 26158.00 MB\n"
     ]
    }
   ],
   "source": [
    "residual_attr, residual_labels = attr_patch_residual(\n",
    "    clean_cache, corrupted_cache, corrupted_grad_cache, \"cpu\"\n",
    ")\n",
    "check_gpu_memory()"
   ]
  },
  {
   "cell_type": "code",
   "execution_count": 24,
   "id": "1f74563d-256a-4d6f-a5e1-ae1b3c39ca3a",
   "metadata": {},
   "outputs": [
    {
     "name": "stderr",
     "output_type": "stream",
     "text": [
      "huggingface/tokenizers: The current process just got forked, after parallelism has already been used. Disabling parallelism to avoid deadlocks...\n",
      "To disable this warning, you can either:\n",
      "\t- Avoid using `tokenizers` before the fork if possible\n",
      "\t- Explicitly set the environment variable TOKENIZERS_PARALLELISM=(true | false)\n"
     ]
    },
    {
     "name": "stdout",
     "output_type": "stream",
     "text": [
      "\u001b[33mWARNING: Ignoring invalid distribution -vidia-nccl-cu12 (/home/jnainani_umass_edu/.conda/envs/finetuning/lib/python3.10/site-packages)\u001b[0m\u001b[33m\n",
      "\u001b[0m\u001b[33mWARNING: Ignoring invalid distribution -vidia-nccl-cu12 (/home/jnainani_umass_edu/.conda/envs/finetuning/lib/python3.10/site-packages)\u001b[0m\u001b[33m\n",
      "\u001b[0mCollecting seaborn\n",
      "  Downloading seaborn-0.13.2-py3-none-any.whl (294 kB)\n",
      "\u001b[2K     \u001b[90m━━━━━━━━━━━━━━━━━━━━━━━━━━━━━━━━━━━━━━━\u001b[0m \u001b[32m294.9/294.9 kB\u001b[0m \u001b[31m6.2 MB/s\u001b[0m eta \u001b[36m0:00:00\u001b[0ma \u001b[36m0:00:01\u001b[0m\n",
      "\u001b[?25hRequirement already satisfied: matplotlib!=3.6.1,>=3.4 in /home/jnainani_umass_edu/.conda/envs/finetuning/lib/python3.10/site-packages (from seaborn) (3.7.0)\n",
      "Requirement already satisfied: numpy!=1.24.0,>=1.20 in /home/jnainani_umass_edu/.conda/envs/finetuning/lib/python3.10/site-packages (from seaborn) (1.26.4)\n",
      "Requirement already satisfied: pandas>=1.2 in /home/jnainani_umass_edu/.conda/envs/finetuning/lib/python3.10/site-packages (from seaborn) (2.2.1)\n",
      "Requirement already satisfied: contourpy>=1.0.1 in /home/jnainani_umass_edu/.conda/envs/finetuning/lib/python3.10/site-packages (from matplotlib!=3.6.1,>=3.4->seaborn) (1.0.5)\n",
      "Requirement already satisfied: cycler>=0.10 in /home/jnainani_umass_edu/.conda/envs/finetuning/lib/python3.10/site-packages (from matplotlib!=3.6.1,>=3.4->seaborn) (0.11.0)\n",
      "Requirement already satisfied: pyparsing>=2.3.1 in /home/jnainani_umass_edu/.conda/envs/finetuning/lib/python3.10/site-packages (from matplotlib!=3.6.1,>=3.4->seaborn) (3.0.9)\n",
      "Requirement already satisfied: packaging>=20.0 in /home/jnainani_umass_edu/.conda/envs/finetuning/lib/python3.10/site-packages (from matplotlib!=3.6.1,>=3.4->seaborn) (23.1)\n",
      "Requirement already satisfied: kiwisolver>=1.0.1 in /home/jnainani_umass_edu/.conda/envs/finetuning/lib/python3.10/site-packages (from matplotlib!=3.6.1,>=3.4->seaborn) (1.4.4)\n",
      "Requirement already satisfied: fonttools>=4.22.0 in /home/jnainani_umass_edu/.conda/envs/finetuning/lib/python3.10/site-packages (from matplotlib!=3.6.1,>=3.4->seaborn) (4.25.0)\n",
      "Requirement already satisfied: pillow>=6.2.0 in /home/jnainani_umass_edu/.conda/envs/finetuning/lib/python3.10/site-packages (from matplotlib!=3.6.1,>=3.4->seaborn) (10.0.1)\n",
      "Requirement already satisfied: python-dateutil>=2.7 in /home/jnainani_umass_edu/.conda/envs/finetuning/lib/python3.10/site-packages (from matplotlib!=3.6.1,>=3.4->seaborn) (2.8.2)\n",
      "Requirement already satisfied: pytz>=2020.1 in /home/jnainani_umass_edu/.conda/envs/finetuning/lib/python3.10/site-packages (from pandas>=1.2->seaborn) (2023.3.post1)\n",
      "Requirement already satisfied: tzdata>=2022.7 in /home/jnainani_umass_edu/.conda/envs/finetuning/lib/python3.10/site-packages (from pandas>=1.2->seaborn) (2024.1)\n",
      "Requirement already satisfied: six>=1.5 in /home/jnainani_umass_edu/.conda/envs/finetuning/lib/python3.10/site-packages (from python-dateutil>=2.7->matplotlib!=3.6.1,>=3.4->seaborn) (1.16.0)\n",
      "\u001b[33mWARNING: Ignoring invalid distribution -vidia-nccl-cu12 (/home/jnainani_umass_edu/.conda/envs/finetuning/lib/python3.10/site-packages)\u001b[0m\u001b[33m\n",
      "\u001b[0mInstalling collected packages: seaborn\n",
      "\u001b[33mWARNING: Ignoring invalid distribution -vidia-nccl-cu12 (/home/jnainani_umass_edu/.conda/envs/finetuning/lib/python3.10/site-packages)\u001b[0m\u001b[33m\n",
      "\u001b[0mSuccessfully installed seaborn-0.13.2\n",
      "\u001b[33mWARNING: Ignoring invalid distribution -vidia-nccl-cu12 (/home/jnainani_umass_edu/.conda/envs/finetuning/lib/python3.10/site-packages)\u001b[0m\u001b[33m\n",
      "\u001b[0m\u001b[33mWARNING: Ignoring invalid distribution -vidia-nccl-cu12 (/home/jnainani_umass_edu/.conda/envs/finetuning/lib/python3.10/site-packages)\u001b[0m\u001b[33m\n",
      "\u001b[0m\u001b[33mWARNING: Ignoring invalid distribution -vidia-nccl-cu12 (/home/jnainani_umass_edu/.conda/envs/finetuning/lib/python3.10/site-packages)\u001b[0m\u001b[33m\n",
      "\u001b[0m"
     ]
    }
   ],
   "source": [
    "!pip install seaborn"
   ]
  },
  {
   "cell_type": "code",
   "execution_count": 40,
   "id": "9ab5a489-6506-4fd9-952f-0861804357b0",
   "metadata": {},
   "outputs": [
    {
     "data": {
      "image/png": "[encoded data removed]",
      "text/plain": [
       "<Figure size 1000x600 with 2 Axes>"
      ]
     },
     "metadata": {},
     "output_type": "display_data"
    }
   ],
   "source": [
    "import numpy as np\n",
    "import matplotlib.pyplot as plt\n",
    "import seaborn as sns\n",
    "\n",
    "# Set the background to white\n",
    "sns.set_style(\"white\")\n",
    "\n",
    "# Plotting the heatmap\n",
    "plt.figure(figsize=(10, 6))\n",
    "sns.heatmap(residual_attr.detach().numpy(), yticklabels=residual_labels, annot=False, cmap='viridis', center=0)\n",
    "\n",
    "plt.xlabel('Position')\n",
    "plt.ylabel('Component')\n",
    "plt.title('Residual Attribution Patching')\n",
    "plt.show()"
   ]
  },
  {
   "cell_type": "markdown",
   "id": "fb85eecd-1f94-43ba-8eec-c882c3e29e0c",
   "metadata": {
    "tags": []
   },
   "source": [
    "# Layer Output Attribution Patching"
   ]
  },
  {
   "cell_type": "code",
   "execution_count": 27,
   "id": "2b0e9a8e-2ab6-44ea-b6e9-2fe397b2281a",
   "metadata": {},
   "outputs": [],
   "source": [
    "@timeit\n",
    "def attr_patch_layer_out(\n",
    "    clean_cache: ActivationCache,\n",
    "    corrupted_cache: ActivationCache,\n",
    "    corrupted_grad_cache: ActivationCache,\n",
    "    device\n",
    ") -> TT[\"component\", \"pos\"]:\n",
    "    clean_layer_out, labels = clean_cache.decompose_resid(-1, return_labels=True)\n",
    "    corrupted_layer_out = corrupted_cache.decompose_resid(-1, return_labels=False)\n",
    "    corrupted_grad_layer_out = corrupted_grad_cache.decompose_resid(\n",
    "        -1, return_labels=False\n",
    "    )\n",
    "    layer_out_attr = einops.reduce(\n",
    "        corrupted_grad_layer_out * (clean_layer_out - corrupted_layer_out),\n",
    "        \"component batch pos d_model -> component pos\",\n",
    "        \"sum\",\n",
    "    ).to(device)\n",
    "    return layer_out_attr, labels"
   ]
  },
  {
   "cell_type": "code",
   "execution_count": 28,
   "id": "aa052b74-1ffa-4f17-ad62-1d4a38c77c2e",
   "metadata": {},
   "outputs": [
    {
     "name": "stdout",
     "output_type": "stream",
     "text": [
      "Function 'attr_patch_layer_out' executed in 0.4354 seconds\n",
      "Primary device: cuda:0\n",
      "GPU 0: 81050.62 MB  Allocated: 26044.61 MB  Reserved: 26224.00 MB\n",
      "GPU 1: 81050.62 MB  Allocated: 26044.85 MB  Reserved: 26158.00 MB\n"
     ]
    }
   ],
   "source": [
    "layer_out_attr, layer_out_labels = attr_patch_layer_out(\n",
    "    clean_cache, corrupted_cache, corrupted_grad_cache, \"cpu\"\n",
    ")\n",
    "check_gpu_memory()"
   ]
  },
  {
   "cell_type": "code",
   "execution_count": 37,
   "id": "4680e7f7-e137-4960-876b-234aaec116e5",
   "metadata": {},
   "outputs": [
    {
     "data": {
      "image/png": "[encoded data removed]",
      "text/plain": [
       "<Figure size 1000x600 with 2 Axes>"
      ]
     },
     "metadata": {},
     "output_type": "display_data"
    }
   ],
   "source": [
    "plt.figure(figsize=(10, 6))\n",
    "sns.heatmap(layer_out_attr.detach().numpy(), yticklabels=layer_out_labels, annot=False, cmap='viridis', center=0)\n",
    "plt.xlabel('Position')\n",
    "plt.ylabel('Component')\n",
    "plt.title('Layer Out Attribution Patching')\n",
    "plt.show()"
   ]
  },
  {
   "cell_type": "markdown",
   "id": "86eb51e6-18d2-4865-95f8-4c5f987d4494",
   "metadata": {
    "tags": []
   },
   "source": [
    "# Head output attribution Patching"
   ]
  },
  {
   "cell_type": "code",
   "execution_count": 30,
   "id": "fbb2dbc3-9991-4169-8b0e-b54ef738a73e",
   "metadata": {},
   "outputs": [],
   "source": [
    "@timeit\n",
    "def attr_patch_head_out(\n",
    "    clean_cache: ActivationCache,\n",
    "    corrupted_cache: ActivationCache,\n",
    "    corrupted_grad_cache: ActivationCache,\n",
    "    device\n",
    ") -> TT[\"component\", \"pos\"]:\n",
    "    labels = HEAD_NAMES\n",
    "\n",
    "    clean_head_out = clean_cache.stack_head_results(-1, return_labels=False).to(device)\n",
    "    corrupted_head_out = corrupted_cache.stack_head_results(-1, return_labels=False).to(device)\n",
    "    corrupted_grad_head_out = corrupted_grad_cache.stack_head_results(\n",
    "        -1, return_labels=False\n",
    "    ).to(device)\n",
    "    head_out_attr = einops.reduce(\n",
    "        corrupted_grad_head_out * (clean_head_out - corrupted_head_out),\n",
    "        \"component batch pos d_model -> component pos\",\n",
    "        \"sum\",\n",
    "    ).to(device)\n",
    "    return head_out_attr, labels"
   ]
  },
  {
   "cell_type": "code",
   "execution_count": 31,
   "id": "b31566a2-c5ce-4698-9418-ca25b894f558",
   "metadata": {},
   "outputs": [
    {
     "name": "stdout",
     "output_type": "stream",
     "text": [
      "Function 'attr_patch_head_out' executed in 5.9244 seconds\n",
      "Primary device: cuda:0\n",
      "GPU 0: 81050.62 MB  Allocated: 26044.61 MB  Reserved: 26224.00 MB\n",
      "GPU 1: 81050.62 MB  Allocated: 26044.85 MB  Reserved: 26158.00 MB\n"
     ]
    }
   ],
   "source": [
    "head_out_attr, head_out_labels = attr_patch_head_out(\n",
    "    clean_cache, corrupted_cache, corrupted_grad_cache, \"cpu\"\n",
    ")\n",
    "\n",
    "sum_head_out_attr = einops.reduce(\n",
    "    head_out_attr,\n",
    "    \"(layer head) pos -> layer head\",\n",
    "    \"sum\",\n",
    "    layer=model.cfg.n_layers,\n",
    "    head=model.cfg.n_heads,\n",
    ")\n",
    "check_gpu_memory()"
   ]
  },
  {
   "cell_type": "code",
   "execution_count": 32,
   "id": "5bd5a75f-6625-4ea8-a187-fd36b513bb81",
   "metadata": {},
   "outputs": [
    {
     "data": {
      "image/png": "[encoded data removed]",
      "text/plain": [
       "<Figure size 1200x800 with 2 Axes>"
      ]
     },
     "metadata": {},
     "output_type": "display_data"
    },
    {
     "data": {
      "image/png": "[encoded data removed]",
      "text/plain": [
       "<Figure size 1000x600 with 2 Axes>"
      ]
     },
     "metadata": {},
     "output_type": "display_data"
    }
   ],
   "source": [
    "plt.figure(figsize=(12, 8))\n",
    "sns.heatmap(head_out_attr.detach().numpy(), yticklabels=head_out_labels, annot=False, cmap='coolwarm', center=0)\n",
    "plt.yticks(fontsize = 4)\n",
    "plt.xlabel('Position')\n",
    "plt.ylabel('Component')\n",
    "plt.title('Head Output Attribution Patching')\n",
    "plt.show()\n",
    "\n",
    "plt.figure(figsize=(10, 6))\n",
    "sns.heatmap(sum_head_out_attr.detach().numpy(), annot=False, cmap='coolwarm', center=0)\n",
    "plt.xlabel('Position')\n",
    "plt.ylabel('Component')\n",
    "plt.title('Head Output Attribution Patching Sum Over Position')\n",
    "plt.show()"
   ]
  },
  {
   "cell_type": "markdown",
   "id": "39523830-9748-4aed-bfd1-daeae5a99831",
   "metadata": {
    "tags": []
   },
   "source": [
    "# Head activation patching, skipping it for now"
   ]
  },
  {
   "cell_type": "code",
   "execution_count": 30,
   "id": "b5a80684-b1a2-44bd-931e-db98d2d5819a",
   "metadata": {},
   "outputs": [],
   "source": [
    "def stack_head_vector_from_cache(\n",
    "    cache, activation_name: Literal[\"q\", \"k\", \"v\", \"z\"], device\n",
    ") -> TT[\"layer_and_head_index\", \"batch\", \"pos\", \"d_head\"]:\n",
    "    \"\"\"Stacks the head vectors from the cache from a specific activation (key, query, value or mixed_value (z)) into a single tensor.\"\"\"\n",
    "    stacked_head_vectors = torch.stack(\n",
    "        [cache[activation_name, l] for l in range(model.cfg.n_layers)], dim=0\n",
    "    ).to(device)\n",
    "    stacked_head_vectors = einops.rearrange(\n",
    "        stacked_head_vectors,\n",
    "        \"layer batch pos head_index d_head -> (layer head_index) batch pos d_head\",\n",
    "    ).to(device)\n",
    "    return stacked_head_vectors\n",
    "\n",
    "@timeit\n",
    "def attr_patch_head_vector(\n",
    "    clean_cache: ActivationCache,\n",
    "    corrupted_cache: ActivationCache,\n",
    "    corrupted_grad_cache: ActivationCache,\n",
    "    activation_name: Literal[\"q\", \"k\", \"v\", \"z\"],\n",
    "    device\n",
    ") -> TT[\"component\", \"pos\"]:\n",
    "    labels = HEAD_NAMES\n",
    "\n",
    "    clean_head_vector = stack_head_vector_from_cache(clean_cache, activation_name, \"cpu\").to(device)\n",
    "    corrupted_head_vector = stack_head_vector_from_cache(\n",
    "        corrupted_cache, activation_name, \"cpu\"\n",
    "    ).to(device)\n",
    "    corrupted_grad_head_vector = stack_head_vector_from_cache(\n",
    "        corrupted_grad_cache, activation_name, \"cpu\"\n",
    "    ).to(device)\n",
    "    head_vector_attr = einops.reduce(\n",
    "        corrupted_grad_head_vector * (clean_head_vector - corrupted_head_vector),\n",
    "        \"component batch pos d_head -> component pos\",\n",
    "        \"sum\",\n",
    "    )\n",
    "    return head_vector_attr, labels"
   ]
  },
  {
   "cell_type": "code",
   "execution_count": 31,
   "id": "3d3fdbb1-7b60-4ba2-a263-062926db7689",
   "metadata": {},
   "outputs": [
    {
     "name": "stdout",
     "output_type": "stream",
     "text": [
      "Function 'attr_patch_head_vector' executed in 0.1752 seconds\n",
      "Function 'attr_patch_head_vector' executed in 0.1506 seconds\n",
      "Function 'attr_patch_head_vector' executed in 0.1564 seconds\n",
      "Function 'attr_patch_head_vector' executed in 0.1737 seconds\n",
      "Primary device: cuda:0\n",
      "GPU 0: 81050.62 MB  Allocated: 52073.20 MB  Reserved: 52136.00 MB\n"
     ]
    }
   ],
   "source": [
    "head_vector_attr_dict = {}\n",
    "for activation_name, activation_name_full in [\n",
    "    (\"k\", \"Key\"),\n",
    "    (\"q\", \"Query\"),\n",
    "    (\"v\", \"Value\"),\n",
    "    (\"z\", \"Mixed Value\"),\n",
    "]:\n",
    "    head_vector_attr_dict[activation_name], head_vector_labels = attr_patch_head_vector(\n",
    "        clean_cache, corrupted_cache, corrupted_grad_cache, activation_name, \"cpu\"\n",
    "    )\n",
    "    sum_head_vector_attr = einops.reduce(\n",
    "        head_vector_attr_dict[activation_name],\n",
    "        \"(layer head) pos -> layer head\",\n",
    "        \"sum\",\n",
    "        layer=model.cfg.n_layers,\n",
    "        head=model.cfg.n_heads,\n",
    "    )\n",
    "check_gpu_memory()"
   ]
  },
  {
   "cell_type": "markdown",
   "id": "30c1f048-e679-4c22-ae27-1e04cfa8461d",
   "metadata": {
    "tags": []
   },
   "source": [
    "# Head Pattern Attribution Patching"
   ]
  },
  {
   "cell_type": "code",
   "execution_count": 32,
   "id": "acabfed1-140d-4619-88a4-a1e42e06f52f",
   "metadata": {},
   "outputs": [],
   "source": [
    "def stack_head_pattern_from_cache(\n",
    "    cache,\n",
    "    device\n",
    ") -> TT[\"layer_and_head_index\", \"batch\", \"dest_pos\", \"src_pos\"]:\n",
    "    \"\"\"Stacks the head patterns from the cache into a single tensor.\"\"\"\n",
    "    stacked_head_pattern = torch.stack(\n",
    "        [cache[\"pattern\", l] for l in range(model.cfg.n_layers)], dim=0\n",
    "    ).to(device)\n",
    "    stacked_head_pattern = einops.rearrange(\n",
    "        stacked_head_pattern,\n",
    "        \"layer batch head_index dest_pos src_pos -> (layer head_index) batch dest_pos src_pos\",\n",
    "    ).to(device)\n",
    "    return stacked_head_pattern\n",
    "\n",
    "@timeit\n",
    "def attr_patch_head_pattern(\n",
    "    clean_cache: ActivationCache,\n",
    "    corrupted_cache: ActivationCache,\n",
    "    corrupted_grad_cache: ActivationCache,\n",
    "    device\n",
    ") -> TT[\"component\", \"dest_pos\", \"src_pos\"]:\n",
    "    labels = HEAD_NAMES\n",
    "\n",
    "    clean_head_pattern = stack_head_pattern_from_cache(clean_cache, \"cpu\").to(device)\n",
    "    corrupted_head_pattern = stack_head_pattern_from_cache(corrupted_cache, \"cpu\").to(device)\n",
    "    corrupted_grad_head_pattern = stack_head_pattern_from_cache(corrupted_grad_cache, \"cpu\").to(device)\n",
    "    head_pattern_attr = einops.reduce(\n",
    "        corrupted_grad_head_pattern * (clean_head_pattern - corrupted_head_pattern),\n",
    "        \"component batch dest_pos src_pos -> component dest_pos src_pos\",\n",
    "        \"sum\",\n",
    "    ).to(device)\n",
    "    return head_pattern_attr, labels"
   ]
  },
  {
   "cell_type": "code",
   "execution_count": 33,
   "id": "2fc558f7-dc81-419f-bc45-b1aeb2da85e7",
   "metadata": {},
   "outputs": [
    {
     "name": "stdout",
     "output_type": "stream",
     "text": [
      "Function 'attr_patch_head_pattern' executed in 0.0454 seconds\n",
      "Primary device: cuda:0\n",
      "GPU 0: 81050.62 MB  Allocated: 52073.20 MB  Reserved: 52136.00 MB\n"
     ]
    }
   ],
   "source": [
    "head_pattern_attr, labels = attr_patch_head_pattern(\n",
    "    clean_cache, corrupted_cache, corrupted_grad_cache, \"cpu\"\n",
    ")\n",
    "\n",
    "head_pattern_attr = einops.rearrange(\n",
    "        head_pattern_attr,\n",
    "        \"(layer head) dest src -> layer head dest src\",\n",
    "        layer=model.cfg.n_layers,\n",
    "        head=model.cfg.n_heads,\n",
    "    )\n",
    "check_gpu_memory()"
   ]
  },
  {
   "cell_type": "markdown",
   "id": "e4d05db8-d81f-463a-99ef-f5e5c2fc7320",
   "metadata": {
    "tags": []
   },
   "source": [
    "# Head Path Attribution Patching"
   ]
  },
  {
   "cell_type": "code",
   "execution_count": 34,
   "id": "e3737193-1d72-4242-b9d0-adbfa2ba8393",
   "metadata": {},
   "outputs": [],
   "source": [
    "def get_head_vector_grad_input_from_grad_cache(\n",
    "    grad_cache: ActivationCache, activation_name: Literal[\"q\", \"k\", \"v\"], layer: int, device\n",
    ") -> TT[\"batch\", \"pos\", \"head_index\", \"d_model\"]:\n",
    "    vector_grad = grad_cache[activation_name, layer].to(device)\n",
    "    ln_scales = grad_cache[\"scale\", layer, \"ln1\"].to(device)\n",
    "    attn_layer_object = model.blocks[layer].attn\n",
    "    if activation_name == \"q\":\n",
    "        W = attn_layer_object.W_Q.to(device)\n",
    "    elif activation_name == \"k\":\n",
    "        W = attn_layer_object.W_K.to(device)\n",
    "    elif activation_name == \"v\":\n",
    "        W = attn_layer_object.W_V.to(device)\n",
    "    else:\n",
    "        raise ValueError(\"Invalid activation name\")\n",
    "\n",
    "    # Original notebook used (batch pos) for second input but that seems to be wrong - double check this computation\n",
    "    return einsum(\n",
    "        \"batch pos head_index d_head, batch pos head_index, head_index d_model d_head -> batch pos head_index d_model\",\n",
    "        vector_grad,\n",
    "        ln_scales.squeeze(-1),\n",
    "        W,\n",
    "    )\n",
    "\n",
    "def get_stacked_head_vector_grad_input(\n",
    "    grad_cache, activation_name: Literal[\"q\", \"k\", \"v\"], device\n",
    ") -> TT[\"layer\", \"batch\", \"pos\", \"head_index\", \"d_model\"]:\n",
    "    return torch.stack(\n",
    "        [\n",
    "            get_head_vector_grad_input_from_grad_cache(grad_cache, activation_name, l, \"cpu\")\n",
    "            for l in range(model.cfg.n_layers)\n",
    "        ],\n",
    "        dim=0,\n",
    "    ).to(device)\n",
    "\n",
    "def get_full_vector_grad_input(\n",
    "    grad_cache, device\n",
    ") -> TT[\"qkv\", \"layer\", \"batch\", \"pos\", \"head_index\", \"d_model\"]:\n",
    "    return torch.stack([get_stacked_head_vector_grad_input(grad_cache, activation_name, \"cpu\").to(device) for activation_name in [\"q\", \"k\", \"v\"]], dim=0).to(device)\n",
    "\n",
    "@timeit\n",
    "def attr_patch_head_path(\n",
    "    clean_cache: ActivationCache,\n",
    "    corrupted_cache: ActivationCache,\n",
    "    corrupted_grad_cache: ActivationCache,\n",
    "    device\n",
    ") -> TT[\"qkv\", \"dest_component\", \"src_component\", \"pos\"]:\n",
    "    \"\"\"\n",
    "    Computes the attribution patch along the path between each pair of heads.\n",
    "\n",
    "    Sets this to zero for the path from any late head to any early head\n",
    "\n",
    "    \"\"\"\n",
    "    start_labels = HEAD_NAMES\n",
    "    end_labels = HEAD_NAMES_QKV\n",
    "    full_vector_grad_input = get_full_vector_grad_input(corrupted_grad_cache, \"cpu\")\n",
    "    clean_head_result_stack = clean_cache.stack_head_results(-1)\n",
    "    corrupted_head_result_stack = corrupted_cache.stack_head_results(-1)\n",
    "    diff_head_result = einops.rearrange(\n",
    "        clean_head_result_stack - corrupted_head_result_stack,\n",
    "        \"(layer head_index) batch pos d_model -> layer batch pos head_index d_model\",\n",
    "        layer=model.cfg.n_layers,\n",
    "        head_index=model.cfg.n_heads,\n",
    "    )\n",
    "    path_attr = einsum(\n",
    "        \"qkv layer_end batch pos head_end d_model, layer_start batch pos head_start d_model -> qkv layer_end head_end layer_start head_start pos\",\n",
    "        full_vector_grad_input,\n",
    "        diff_head_result,\n",
    "    )\n",
    "    correct_layer_order_mask = (\n",
    "        torch.arange(model.cfg.n_layers)[None, :, None, None, None, None]\n",
    "        > torch.arange(model.cfg.n_layers)[None, None, None, :, None, None]\n",
    "    ).to(path_attr.device)\n",
    "    zero = torch.zeros(1, device=path_attr.device)\n",
    "    path_attr = torch.where(correct_layer_order_mask, path_attr, zero)\n",
    "\n",
    "    path_attr = einops.rearrange(\n",
    "        path_attr,\n",
    "        \"qkv layer_end head_end layer_start head_start pos -> (layer_end head_end qkv) (layer_start head_start) pos\",\n",
    "    )\n",
    "    return path_attr, end_labels, start_labels\n"
   ]
  },
  {
   "cell_type": "code",
   "execution_count": 35,
   "id": "fee61b64-e942-4159-ad33-1dee88246c31",
   "metadata": {},
   "outputs": [
    {
     "name": "stdout",
     "output_type": "stream",
     "text": [
      "Function 'attr_patch_head_path' executed in 32.3859 seconds\n"
     ]
    }
   ],
   "source": [
    "head_path_attr, end_labels, start_labels = attr_patch_head_path(\n",
    "    clean_cache, corrupted_cache, corrupted_grad_cache, \"cpu\"\n",
    ")"
   ]
  },
  {
   "cell_type": "code",
   "execution_count": 36,
   "id": "dca5f72c-931c-4fe6-94c0-33d963d87966",
   "metadata": {},
   "outputs": [
    {
     "name": "stdout",
     "output_type": "stream",
     "text": [
      "Primary device: cuda:0\n",
      "GPU 0: 81050.62 MB  Allocated: 52073.20 MB  Reserved: 52136.00 MB\n"
     ]
    }
   ],
   "source": [
    "check_gpu_memory()"
   ]
  },
  {
   "cell_type": "code",
   "execution_count": 37,
   "id": "3ef4d5c1-7ee8-4e06-893b-05c17b4a2c77",
   "metadata": {},
   "outputs": [
    {
     "name": "stdout",
     "output_type": "stream",
     "text": [
      "Primary device: cuda:0\n",
      "GPU 0: 81050.62 MB  Allocated: 52073.20 MB  Reserved: 52136.00 MB\n"
     ]
    }
   ],
   "source": [
    "head_out_values, head_out_indices = head_out_attr.sum(-1).abs().sort(descending=True)\n",
    "top_head_indices = head_out_indices[:22].sort().values\n",
    "top_end_indices = []\n",
    "top_end_labels = []\n",
    "top_start_indices = []\n",
    "top_start_labels = []\n",
    "\n",
    "for i in top_head_indices:\n",
    "    i = i.item()\n",
    "    top_start_indices.append(i)\n",
    "    top_start_labels.append(start_labels[i])\n",
    "    for j in range(3):\n",
    "        top_end_indices.append(3 * i + j)\n",
    "        top_end_labels.append(end_labels[3 * i + j])\n",
    "        \n",
    "top_head_path_attr = einops.rearrange(\n",
    "    head_path_attr[top_end_indices, :][:, top_start_indices].sum(-1),\n",
    "    \"(head_end qkv) head_start -> qkv head_end head_start\",\n",
    "    qkv=3,\n",
    ")\n",
    "\n",
    "check_gpu_memory()"
   ]
  },
  {
   "cell_type": "code",
   "execution_count": 38,
   "id": "083e15df-c306-4f9f-a3a6-52c5b79b9a17",
   "metadata": {},
   "outputs": [
    {
     "name": "stdout",
     "output_type": "stream",
     "text": [
      "Primary device: cuda:0\n",
      "GPU 0: 81050.62 MB  Allocated: 52073.20 MB  Reserved: 52136.00 MB\n"
     ]
    }
   ],
   "source": [
    "interesting_heads = [\n",
    "    5 * model.cfg.n_heads + 5,\n",
    "    8 * model.cfg.n_heads + 6,\n",
    "    9 * model.cfg.n_heads + 9,\n",
    "]\n",
    "interesting_head_labels = [HEAD_NAMES[i] for i in interesting_heads]\n",
    "for head_index, label in zip(interesting_heads, interesting_head_labels):\n",
    "    in_paths = head_path_attr[3 * head_index : 3 * head_index + 3].sum(-1)\n",
    "    out_paths = head_path_attr[:, head_index].sum(-1)\n",
    "    out_paths = einops.rearrange(out_paths, \"(layer_head qkv) -> qkv layer_head\", qkv=3)\n",
    "    all_paths = torch.cat([in_paths, out_paths], dim=0)\n",
    "    all_paths = einops.rearrange(\n",
    "        all_paths,\n",
    "        \"path_type (layer head) -> path_type layer head\",\n",
    "        layer=model.cfg.n_layers,\n",
    "        head=model.cfg.n_heads,\n",
    "    )\n",
    "    # TODO - implement visualization for input/output paths per head\n",
    "    \n",
    "check_gpu_memory()"
   ]
  },
  {
   "cell_type": "markdown",
   "id": "8aa3f80b-11fd-4397-bf72-701d7423c7a4",
   "metadata": {
    "tags": []
   },
   "source": [
    "# Validating Attribution vs Activation Patching"
   ]
  },
  {
   "cell_type": "code",
   "execution_count": 45,
   "id": "ab4327d3-9363-4ea6-a638-99ad86a6e446",
   "metadata": {},
   "outputs": [
    {
     "name": "stdout",
     "output_type": "stream",
     "text": [
      "Primary device: cuda:0\n",
      "GPU 0: 81050.62 MB  Allocated: 52073.20 MB  Reserved: 52136.00 MB\n"
     ]
    }
   ],
   "source": [
    "attribution_cache_dict = {}\n",
    "for key in corrupted_grad_cache.cache_dict.keys():\n",
    "    attribution_cache_dict[key] = corrupted_grad_cache.cache_dict[key] * (\n",
    "        clean_cache.cache_dict[key] - corrupted_cache.cache_dict[key]\n",
    "    ).to(\"cpu\")\n",
    "attr_cache = ActivationCache(attribution_cache_dict, model).to(\"cpu\")\n",
    "check_gpu_memory()"
   ]
  },
  {
   "cell_type": "markdown",
   "id": "780c1862-c4fb-4dac-8e57-7bd52af0bc3f",
   "metadata": {},
   "source": [
    "# Activation Patching per Block, skipping it for now"
   ]
  },
  {
   "cell_type": "code",
   "execution_count": 16,
   "id": "db84d526-4460-400e-8b22-58038cd14822",
   "metadata": {},
   "outputs": [
    {
     "data": {
      "text/plain": [
       "'cuda:0'"
      ]
     },
     "execution_count": 16,
     "metadata": {},
     "output_type": "execute_result"
    }
   ],
   "source": [
    "device"
   ]
  },
  {
   "cell_type": "code",
   "execution_count": 17,
   "id": "a07e5d55-6d59-4180-ba39-8bd42c52a192",
   "metadata": {},
   "outputs": [
    {
     "name": "stdout",
     "output_type": "stream",
     "text": [
      "Moving model to device:  cuda:0\n"
     ]
    },
    {
     "data": {
      "application/vnd.jupyter.widget-view+json": {
       "model_id": "d256f061e23543d3af4c575b83d31a11",
       "version_major": 2,
       "version_minor": 0
      },
      "text/plain": [
       "  0%|          | 0/544 [00:00<?, ?it/s]"
      ]
     },
     "metadata": {},
     "output_type": "display_data"
    },
    {
     "data": {
      "application/vnd.jupyter.widget-view+json": {
       "model_id": "72010581426b45e7bf1729719d85d356",
       "version_major": 2,
       "version_minor": 0
      },
      "text/plain": [
       "  0%|          | 0/544 [00:00<?, ?it/s]"
      ]
     },
     "metadata": {},
     "output_type": "display_data"
    },
    {
     "data": {
      "application/vnd.jupyter.widget-view+json": {
       "model_id": "52827bff0abb4eb6b51bdd7a99502a68",
       "version_major": 2,
       "version_minor": 0
      },
      "text/plain": [
       "  0%|          | 0/544 [00:00<?, ?it/s]"
      ]
     },
     "metadata": {},
     "output_type": "display_data"
    },
    {
     "name": "stdout",
     "output_type": "stream",
     "text": [
      "Primary device: cuda:0\n",
      "GPU 0: 81050.62 MB  Allocated: 34368.80 MB  Reserved: 34416.00 MB\n"
     ]
    }
   ],
   "source": [
    "str_tokens = model.to_str_tokens(clean_tokens[0])\n",
    "context_length = len(str_tokens)\n",
    "every_block_act_patch_result = patching.get_act_patch_block_every(\n",
    "    model, corrupted_tokens, clean_cache, ioi_metric\n",
    ").to(\"cpu\")\n",
    "\n",
    "check_gpu_memory()"
   ]
  },
  {
   "cell_type": "markdown",
   "id": "7295a4fc-e6f1-4053-80ce-7f7c89cc9e3e",
   "metadata": {},
   "source": [
    "# Attribution Patching per Block"
   ]
  },
  {
   "cell_type": "code",
   "execution_count": 42,
   "id": "94fd352a-df94-416b-8fba-53fd9abe5af6",
   "metadata": {},
   "outputs": [],
   "source": [
    "@timeit\n",
    "def get_attr_patch_block_every(attr_cache, device):\n",
    "    resid_pre_attr = einops.reduce(\n",
    "        attr_cache.stack_activation(\"resid_pre\"),\n",
    "        \"layer batch pos d_model -> layer pos\",\n",
    "        \"sum\",\n",
    "    ).to(device)\n",
    "    attn_out_attr = einops.reduce(\n",
    "        attr_cache.stack_activation(\"attn_out\"),\n",
    "        \"layer batch pos d_model -> layer pos\",\n",
    "        \"sum\",\n",
    "    ).to(device)\n",
    "    mlp_out_attr = einops.reduce(\n",
    "        attr_cache.stack_activation(\"mlp_out\"),\n",
    "        \"layer batch pos d_model -> layer pos\",\n",
    "        \"sum\",\n",
    "    ).to(device)\n",
    "\n",
    "    every_block_attr_patch_result = torch.stack(\n",
    "        [resid_pre_attr, attn_out_attr, mlp_out_attr], dim=0\n",
    "    )\n",
    "    return every_block_attr_patch_result"
   ]
  },
  {
   "cell_type": "code",
   "execution_count": 43,
   "id": "6dce6a26-cc47-451a-bc75-6fabfead62e8",
   "metadata": {},
   "outputs": [
    {
     "name": "stdout",
     "output_type": "stream",
     "text": [
      "Function 'get_attr_patch_block_every' executed in 0.0838 seconds\n",
      "Primary device: cuda:0\n",
      "GPU 0: 81050.62 MB  Allocated: 52073.20 MB  Reserved: 52136.00 MB\n"
     ]
    }
   ],
   "source": [
    "every_block_attr_patch_result = get_attr_patch_block_every(attr_cache, \"cpu\")\n",
    "check_gpu_memory()"
   ]
  },
  {
   "cell_type": "markdown",
   "id": "e5ba8592-de04-44ee-955f-0eee971add5d",
   "metadata": {},
   "source": [
    "# Activation Patching per Head"
   ]
  },
  {
   "cell_type": "code",
   "execution_count": 18,
   "id": "643ff676-086e-445a-829b-9792b1c7e088",
   "metadata": {},
   "outputs": [
    {
     "data": {
      "application/vnd.jupyter.widget-view+json": {
       "model_id": "6894376b90064d42b9820eff89e041c2",
       "version_major": 2,
       "version_minor": 0
      },
      "text/plain": [
       "  0%|          | 0/1024 [00:00<?, ?it/s]"
      ]
     },
     "metadata": {},
     "output_type": "display_data"
    },
    {
     "data": {
      "application/vnd.jupyter.widget-view+json": {
       "model_id": "2b5c7bfeb98743198399e804189fa1a7",
       "version_major": 2,
       "version_minor": 0
      },
      "text/plain": [
       "  0%|          | 0/1024 [00:00<?, ?it/s]"
      ]
     },
     "metadata": {},
     "output_type": "display_data"
    },
    {
     "data": {
      "application/vnd.jupyter.widget-view+json": {
       "model_id": "5ec63dc8a02d4b04a2b2c2b04c16427e",
       "version_major": 2,
       "version_minor": 0
      },
      "text/plain": [
       "  0%|          | 0/1024 [00:00<?, ?it/s]"
      ]
     },
     "metadata": {},
     "output_type": "display_data"
    },
    {
     "data": {
      "application/vnd.jupyter.widget-view+json": {
       "model_id": "a1876f4e5fb84882a5ce08afbbc65f58",
       "version_major": 2,
       "version_minor": 0
      },
      "text/plain": [
       "  0%|          | 0/1024 [00:00<?, ?it/s]"
      ]
     },
     "metadata": {},
     "output_type": "display_data"
    },
    {
     "data": {
      "application/vnd.jupyter.widget-view+json": {
       "model_id": "01c9c6adf9eb43b1b0dd2be5e4ed7bc0",
       "version_major": 2,
       "version_minor": 0
      },
      "text/plain": [
       "  0%|          | 0/1024 [00:00<?, ?it/s]"
      ]
     },
     "metadata": {},
     "output_type": "display_data"
    }
   ],
   "source": [
    "every_head_all_pos_act_patch_result = patching.get_act_patch_attn_head_all_pos_every(\n",
    "    model, corrupted_tokens, clean_cache, ioi_metric\n",
    ")"
   ]
  },
  {
   "cell_type": "markdown",
   "id": "f1d4e0ef-44cb-4755-b609-895b430f3dc1",
   "metadata": {},
   "source": [
    "# Attribution Patching per Head"
   ]
  },
  {
   "cell_type": "code",
   "execution_count": 44,
   "id": "c36cfca3-c2ef-4dce-9f75-ee4a874fdc30",
   "metadata": {},
   "outputs": [
    {
     "name": "stdout",
     "output_type": "stream",
     "text": [
      "Function 'get_attr_patch_attn_head_all_pos_every' executed in 0.1443 seconds\n"
     ]
    }
   ],
   "source": [
    "@timeit\n",
    "def get_attr_patch_attn_head_all_pos_every(attr_cache, device):\n",
    "    head_out_all_pos_attr = einops.reduce(\n",
    "        attr_cache.stack_activation(\"z\"),\n",
    "        \"layer batch pos head_index d_head -> layer head_index\",\n",
    "        \"sum\",\n",
    "    )\n",
    "    head_q_all_pos_attr = einops.reduce(\n",
    "        attr_cache.stack_activation(\"q\"),\n",
    "        \"layer batch pos head_index d_head -> layer head_index\",\n",
    "        \"sum\",\n",
    "    )\n",
    "    head_k_all_pos_attr = einops.reduce(\n",
    "        attr_cache.stack_activation(\"k\"),\n",
    "        \"layer batch pos head_index d_head -> layer head_index\",\n",
    "        \"sum\",\n",
    "    )\n",
    "    head_v_all_pos_attr = einops.reduce(\n",
    "        attr_cache.stack_activation(\"v\"),\n",
    "        \"layer batch pos head_index d_head -> layer head_index\",\n",
    "        \"sum\",\n",
    "    )\n",
    "    head_pattern_all_pos_attr = einops.reduce(\n",
    "        attr_cache.stack_activation(\"pattern\"),\n",
    "        \"layer batch head_index dest_pos src_pos -> layer head_index\",\n",
    "        \"sum\",\n",
    "    )\n",
    "\n",
    "    return torch.stack(\n",
    "        [\n",
    "            head_out_all_pos_attr,\n",
    "            head_q_all_pos_attr,\n",
    "            head_k_all_pos_attr,\n",
    "            head_v_all_pos_attr,\n",
    "            head_pattern_all_pos_attr,\n",
    "        ]\n",
    "    )\n",
    "\n",
    "\n",
    "every_head_all_pos_attr_patch_result = get_attr_patch_attn_head_all_pos_every(\n",
    "    attr_cache, \"cpu\"\n",
    ")"
   ]
  },
  {
   "cell_type": "code",
   "execution_count": null,
   "id": "13cdc2cd-c7d5-48cc-81ac-26fa378bfce5",
   "metadata": {},
   "outputs": [],
   "source": [
    "every_head_by_pos_act_patch_result = patching.get_act_patch_attn_head_by_pos_every(\n",
    "    model, corrupted_tokens, clean_cache, ioi_metric\n",
    ")\n",
    "every_head_by_pos_act_patch_result = einops.rearrange(\n",
    "    every_head_by_pos_act_patch_result,\n",
    "    \"act_type layer pos head -> act_type (layer head) pos\",\n",
    ")"
   ]
  }
 ],
 "metadata": {
  "kernelspec": {
   "display_name": "Python [conda env:.conda-finetuning]",
   "language": "python",
   "name": "conda-env-.conda-finetuning-py"
  },
  "language_info": {
   "codemirror_mode": {
    "name": "ipython",
    "version": 3
   },
   "file_extension": ".py",
   "mimetype": "text/x-python",
   "name": "python",
   "nbconvert_exporter": "python",
   "pygments_lexer": "ipython3",
   "version": "3.10.4"
  }
 },
 "nbformat": 4,
 "nbformat_minor": 5
}
