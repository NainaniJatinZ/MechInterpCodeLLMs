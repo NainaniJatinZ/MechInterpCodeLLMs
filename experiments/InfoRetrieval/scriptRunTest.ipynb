{
 "cells": [
  {
   "cell_type": "code",
   "execution_count": 1,
   "id": "1ed43479-048e-435e-8a4d-cdc54b7a4f6a",
   "metadata": {},
   "outputs": [
    {
     "name": "stdout",
     "output_type": "stream",
     "text": [
      "/home/jnainani_umass_edu/codellm/MechInterpCodeLLMs\n"
     ]
    }
   ],
   "source": [
    "%cd /home/jnainani_umass_edu/codellm/MechInterpCodeLLMs"
   ]
  },
  {
   "cell_type": "code",
   "execution_count": 2,
   "id": "19ff8676-7291-41ab-9bbb-c9e2e871dfc6",
   "metadata": {},
   "outputs": [],
   "source": [
    "import transformer_lens"
   ]
  },
  {
   "cell_type": "code",
   "execution_count": 3,
   "id": "0b4f6a7a-81f9-4265-bc81-b818e26052c5",
   "metadata": {},
   "outputs": [
    {
     "name": "stdout",
     "output_type": "stream",
     "text": [
      "Notebook Python path: /home/jnainani_umass_edu/.conda/envs/finetuning/bin/python\n"
     ]
    }
   ],
   "source": [
    "import sys\n",
    "print(\"Notebook Python path:\", sys.executable)"
   ]
  },
  {
   "cell_type": "code",
   "execution_count": null,
   "id": "675f3181-ce83-4932-a194-d82fa2689c0e",
   "metadata": {},
   "outputs": [],
   "source": [
    "/home/jnainani_umass_edu/.conda/envs/finetuning/bin/python"
   ]
  },
  {
   "cell_type": "code",
   "execution_count": null,
   "id": "8f133ce5-7acb-43a5-a570-5b6f62bfaed6",
   "metadata": {},
   "outputs": [
    {
     "name": "stdout",
     "output_type": "stream",
     "text": [
      "Number of GPUs: 1\n",
      "Primary device: cuda:0\n",
      "GPU 0: 81050.62 MB  Allocated: 0.00 MB  Reserved: 0.00 MB\n"
     ]
    },
    {
     "data": {
      "application/vnd.jupyter.widget-view+json": {
       "model_id": "406a0abddf8a4ff5b5c30da65c7f0424",
       "version_major": 2,
       "version_minor": 0
      },
      "text/plain": [
       "Loading checkpoint shards:   0%|          | 0/2 [00:00<?, ?it/s]"
      ]
     },
     "metadata": {},
     "output_type": "display_data"
    },
    {
     "name": "stderr",
     "output_type": "stream",
     "text": [
      "WARNING:root:You are not using LayerNorm, so the writing weights can't be centered! Skipping\n"
     ]
    },
    {
     "name": "stdout",
     "output_type": "stream",
     "text": [
      "Loaded pretrained model CodeLlama-7b-hf into HookedTransformer\n",
      "Primary device: cuda:0\n",
      "GPU 0: 81050.62 MB  Allocated: 26348.48 MB  Reserved: 26370.00 MB\n",
      "Prompts: [\"def K(a, b):\\n    return a - b\\ndef F(a, b):\\n    return a * b\\ndef G(a, b):\\n    return a + b\\ndef I(a, b):\\n    return a < b\\n\\nthe name of the function that uses the '-' operator is \", \"def K(a, b):\\n    return a - b\\ndef F(a, b):\\n    return a * b\\ndef G(a, b):\\n    return a + b\\ndef I(a, b):\\n    return a < b\\n\\nthe name of the function that uses the '<' operator is \", \"def K(a, b):\\n    return a - b\\ndef F(a, b):\\n    return a * b\\ndef G(a, b):\\n    return a + b\\ndef I(a, b):\\n    return a < b\\n\\nthe name of the function that uses the '*' operator is \", \"def K(a, b):\\n    return a - b\\ndef F(a, b):\\n    return a * b\\ndef G(a, b):\\n    return a + b\\ndef I(a, b):\\n    return a < b\\n\\nthe name of the function that uses the '+' operator is \", \"def E(a, b):\\n    return a - b\\ndef D(a, b):\\n    return a + b\\ndef F(a, b):\\n    return a > b\\ndef A(a, b):\\n    return a / b\\n\\nthe name of the function that uses the '+' operator is \", \"def E(a, b):\\n    return a - b\\ndef D(a, b):\\n    return a + b\\ndef F(a, b):\\n    return a > b\\ndef A(a, b):\\n    return a / b\\n\\nthe name of the function that uses the '/' operator is \", \"def E(a, b):\\n    return a - b\\ndef D(a, b):\\n    return a + b\\ndef F(a, b):\\n    return a > b\\ndef A(a, b):\\n    return a / b\\n\\nthe name of the function that uses the '-' operator is \", \"def E(a, b):\\n    return a - b\\ndef D(a, b):\\n    return a + b\\ndef F(a, b):\\n    return a > b\\ndef A(a, b):\\n    return a / b\\n\\nthe name of the function that uses the '>' operator is \"]\n",
      "Answers: [('K', 'I'), ('I', 'K'), ('F', 'G'), ('G', 'F'), ('D', 'A'), ('A', 'D'), ('E', 'F'), ('F', 'E')]\n",
      "Clean string 0 <s> def K(a, b):\n",
      "    return a - b\n",
      "def F(a, b):\n",
      "    return a * b\n",
      "def G(a, b):\n",
      "    return a + b\n",
      "def I(a, b):\n",
      "    return a < b\n",
      "\n",
      "the name of the function that uses the '-' operator is </s>\n",
      "Corrupted string 0 <s> def K(a, b):\n",
      "    return a - b\n",
      "def F(a, b):\n",
      "    return a * b\n",
      "def G(a, b):\n",
      "    return a + b\n",
      "def I(a, b):\n",
      "    return a < b\n",
      "\n",
      "the name of the function that uses the '<' operator is </s>\n",
      "Primary device: cuda:0\n",
      "GPU 0: 81050.62 MB  Allocated: 26348.49 MB  Reserved: 26370.00 MB\n",
      "Answer token indices tensor([[476, 306],\n",
      "        [306, 476],\n",
      "        [383, 402],\n",
      "        [402, 383],\n",
      "        [360, 319],\n",
      "        [319, 360],\n",
      "        [382, 383],\n",
      "        [383, 382]], device='cuda:0')\n",
      "Number of tokens in clean:  72\n",
      "Number of tokens in corrupted:  72\n",
      "answer shape:  torch.Size([8, 2])\n",
      "Clean token shape: 8 * 72\n",
      "Corrupted token shape: 8 * 72\n",
      "Primary device: cuda:0\n",
      "GPU 0: 81050.62 MB  Allocated: 26348.49 MB  Reserved: 26370.00 MB\n",
      "Function 'get_cache_fwd_and_bwd' executed in 2.5710 seconds\n",
      "Primary device: cuda:0\n",
      "GPU 0: 81050.62 MB  Allocated: 52073.88 MB  Reserved: 52182.00 MB\n",
      "Function 'get_cache_fwd_and_bwd' executed in 1.4502 seconds\n",
      "Primary device: cuda:0\n",
      "GPU 0: 81050.62 MB  Allocated: 52073.88 MB  Reserved: 52182.00 MB\n",
      "Function 'get_cache_fwd_and_bwd' executed in 1.7662 seconds\n",
      "Primary device: cuda:0\n",
      "GPU 0: 81050.62 MB  Allocated: 52073.88 MB  Reserved: 52182.00 MB\n",
      "Function 'get_cache_fwd_and_bwd' executed in 1.4460 seconds\n",
      "Primary device: cuda:0\n",
      "GPU 0: 81050.62 MB  Allocated: 52073.88 MB  Reserved: 52182.00 MB\n",
      "Function 'get_cache_fwd_and_bwd' executed in 1.4545 seconds\n",
      "Primary device: cuda:0\n",
      "GPU 0: 81050.62 MB  Allocated: 52073.88 MB  Reserved: 52182.00 MB\n",
      "Function 'get_cache_fwd_and_bwd' executed in 1.5821 seconds\n",
      "Primary device: cuda:0\n",
      "GPU 0: 81050.62 MB  Allocated: 52073.88 MB  Reserved: 52182.00 MB\n",
      "Function 'get_cache_fwd_and_bwd' executed in 1.6284 seconds\n",
      "Primary device: cuda:0\n",
      "GPU 0: 81050.62 MB  Allocated: 52073.88 MB  Reserved: 52182.00 MB\n",
      "Function 'get_cache_fwd_and_bwd' executed in 1.4582 seconds\n",
      "Primary device: cuda:0\n",
      "GPU 0: 81050.62 MB  Allocated: 52073.88 MB  Reserved: 52182.00 MB\n",
      "Function 'get_cache_fwd_and_bwd' executed in 1.4489 seconds\n",
      "Primary device: cuda:0\n",
      "GPU 0: 81050.62 MB  Allocated: 52073.88 MB  Reserved: 52182.00 MB\n",
      "Function 'get_cache_fwd_and_bwd' executed in 1.4512 seconds\n"
     ]
    }
   ],
   "source": [
    "%run src/seqAttPatching.py --logit_difference 0.5171 --NumberOfPrompts 8"
   ]
  },
  {
   "cell_type": "code",
   "execution_count": null,
   "id": "0eac53cf-f2b8-43fc-8e2e-da0ad0b282b5",
   "metadata": {},
   "outputs": [],
   "source": []
  },
  {
   "cell_type": "code",
   "execution_count": null,
   "id": "e9dd1e41-7e37-4138-a53e-1e201460767b",
   "metadata": {},
   "outputs": [],
   "source": []
  },
  {
   "cell_type": "code",
   "execution_count": null,
   "id": "1bad7307-1812-4eea-b81c-b7044b6b587b",
   "metadata": {},
   "outputs": [],
   "source": []
  },
  {
   "cell_type": "code",
   "execution_count": null,
   "id": "56a8f038-193b-4466-982e-992a5572d4f8",
   "metadata": {},
   "outputs": [],
   "source": []
  },
  {
   "cell_type": "code",
   "execution_count": null,
   "id": "3a89f4c3-a68c-4f87-a8ae-aa12ad167926",
   "metadata": {},
   "outputs": [],
   "source": []
  },
  {
   "cell_type": "code",
   "execution_count": null,
   "id": "ae4c0d5c-86e0-4141-9874-ae074ccffe59",
   "metadata": {},
   "outputs": [],
   "source": []
  },
  {
   "cell_type": "code",
   "execution_count": null,
   "id": "db0a4336-9733-4642-8483-ce8e46275820",
   "metadata": {},
   "outputs": [],
   "source": []
  }
 ],
 "metadata": {
  "kernelspec": {
   "display_name": "Python [conda env:.conda-finetuning]",
   "language": "python",
   "name": "conda-env-.conda-finetuning-py"
  },
  "language_info": {
   "codemirror_mode": {
    "name": "ipython",
    "version": 3
   },
   "file_extension": ".py",
   "mimetype": "text/x-python",
   "name": "python",
   "nbconvert_exporter": "python",
   "pygments_lexer": "ipython3",
   "version": "3.10.4"
  }
 },
 "nbformat": 4,
 "nbformat_minor": 5
}
